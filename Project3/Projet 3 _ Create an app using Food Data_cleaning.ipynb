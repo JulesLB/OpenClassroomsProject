{
 "cells": [
  {
   "cell_type": "markdown",
   "metadata": {},
   "source": [
    "# Create an app for the public health\n",
    "\n",
    "**Objective**\n",
    "Find innovative ideas of application regarding food industry.  \n",
    "Project: Predict the nutriscore of a product\n",
    "https://en.wikipedia.org/wiki/Nutri-score\n",
    "***\n",
    "Data description: https://world.openfoodfacts.org/data/data-fields.txt  \n",
    "Data storage: https://world.openfoodfacts.org/data\n",
    "***\n",
    "Application: **Get the nutritional score for every meal/recipe** given each ingredient and quantity, so you can track your food consumption.  \n",
    "*Application description*: \n",
    "The user can scan the bar code of each element, then enter the quantity of each product. \n",
    "The algorithm will calculate the proportion of each nutriment of the meal/recipe for 100g, then return the nutriscore.Based on your food consumption, we could recommand specific meal/recipe.  \n",
    "The purpose of this study is to determine the nutriscore of each product based on its nutriments. This is a classification problem.\n",
    "***\n",
    "This project is divided into two notebooks:  \n",
    "- Data cleaning & exploratory\n",
    "- Prediction\n",
    "\n",
    "The following notebook is dedicated to the data analysis"
   ]
  },
  {
   "cell_type": "markdown",
   "metadata": {
    "toc": true
   },
   "source": [
    "<h1>Table of Contents<span class=\"tocSkip\"></span></h1>\n",
    "<div class=\"toc\"><ul class=\"toc-item\"><li><span><a href=\"#Create-an-app-for-the-public-healt\" data-toc-modified-id=\"Create-an-app-for-the-public-healt-1\"><span class=\"toc-item-num\">1&nbsp;&nbsp;</span>Create an app for the public healt</a></span></li><li><span><a href=\"#Packages-imported\" data-toc-modified-id=\"Packages-imported-2\"><span class=\"toc-item-num\">2&nbsp;&nbsp;</span>Packages imported</a></span></li><li><span><a href=\"#Data-Discovery\" data-toc-modified-id=\"Data-Discovery-3\"><span class=\"toc-item-num\">3&nbsp;&nbsp;</span>Data Discovery</a></span><ul class=\"toc-item\"><li><span><a href=\"#General-infos\" data-toc-modified-id=\"General-infos-3.1\"><span class=\"toc-item-num\">3.1&nbsp;&nbsp;</span>General infos</a></span></li><li><span><a href=\"#Data-cleaning-&amp;-features-testing\" data-toc-modified-id=\"Data-cleaning-&amp;-features-testing-3.2\"><span class=\"toc-item-num\">3.2&nbsp;&nbsp;</span>Data cleaning &amp; features testing</a></span></li><li><span><a href=\"#Data-distribution\" data-toc-modified-id=\"Data-distribution-3.3\"><span class=\"toc-item-num\">3.3&nbsp;&nbsp;</span>Data distribution</a></span></li><li><span><a href=\"#Outliers-detection\" data-toc-modified-id=\"Outliers-detection-3.4\"><span class=\"toc-item-num\">3.4&nbsp;&nbsp;</span>Outliers detection</a></span></li><li><span><a href=\"#Filling-NaN\" data-toc-modified-id=\"Filling-NaN-3.5\"><span class=\"toc-item-num\">3.5&nbsp;&nbsp;</span>Filling NaN</a></span></li></ul></li><li><span><a href=\"#Features-analysis\" data-toc-modified-id=\"Features-analysis-4\"><span class=\"toc-item-num\">4&nbsp;&nbsp;</span>Features analysis</a></span><ul class=\"toc-item\"><li><span><a href=\"#Numerical-VS-Numerical---Pearson\" data-toc-modified-id=\"Numerical-VS-Numerical---Pearson-4.1\"><span class=\"toc-item-num\">4.1&nbsp;&nbsp;</span>Numerical VS Numerical - Pearson</a></span></li><li><span><a href=\"#Num-VS-Categorical---ANOVA-analysis\" data-toc-modified-id=\"Num-VS-Categorical---ANOVA-analysis-4.2\"><span class=\"toc-item-num\">4.2&nbsp;&nbsp;</span>Num VS Categorical - ANOVA analysis</a></span></li><li><span><a href=\"#Categorical-VS-Categorical---Contingency,-CHI2-Test\" data-toc-modified-id=\"Categorical-VS-Categorical---Contingency,-CHI2-Test-4.3\"><span class=\"toc-item-num\">4.3&nbsp;&nbsp;</span>Categorical VS Categorical - Contingency, CHI2 Test</a></span></li></ul></li><li><span><a href=\"#Export-cleaned-Data_set\" data-toc-modified-id=\"Export-cleaned-Data_set-5\"><span class=\"toc-item-num\">5&nbsp;&nbsp;</span>Export cleaned Data_set</a></span></li></ul></div>"
   ]
  },
  {
   "cell_type": "markdown",
   "metadata": {},
   "source": [
    "# Packages imported"
   ]
  },
  {
   "cell_type": "code",
   "execution_count": 1,
   "metadata": {
    "ExecuteTime": {
     "end_time": "2020-02-20T09:19:11.964323Z",
     "start_time": "2020-02-20T09:19:08.507409Z"
    }
   },
   "outputs": [],
   "source": [
    "#Data manipulation\n",
    "import pandas as pd\n",
    "import numpy as np\n",
    "\n",
    "#Graphical\n",
    "import matplotlib.pyplot as plt\n",
    "import seaborn as sns\n",
    "\n",
    "#Statistical\n",
    "import scipy.stats as stats\n",
    "from scipy.stats import chi2_contingency, pearsonr\n",
    "import statsmodels.api as sm\n",
    "from statsmodels.formula.api import ols\n",
    "\n",
    "from sklearn.ensemble import RandomForestClassifier\n",
    "\n",
    "#Others\n",
    "from collections import Counter\n",
    "\n",
    "import gc"
   ]
  },
  {
   "cell_type": "markdown",
   "metadata": {},
   "source": [
    "# Data Discovery"
   ]
  },
  {
   "cell_type": "code",
   "execution_count": 2,
   "metadata": {
    "ExecuteTime": {
     "end_time": "2020-02-20T09:19:42.165864Z",
     "start_time": "2020-02-20T09:19:11.964323Z"
    },
    "scrolled": true
   },
   "outputs": [
    {
     "name": "stderr",
     "output_type": "stream",
     "text": [
      "C:\\Users\\jules\\Anaconda3\\lib\\site-packages\\IPython\\core\\interactiveshell.py:3058: DtypeWarning: Columns (0,24,25,26,28,44,49) have mixed types. Specify dtype option on import or set low_memory=False.\n",
      "  interactivity=interactivity, compiler=compiler, result=result)\n"
     ]
    },
    {
     "data": {
      "text/html": [
       "<div>\n",
       "<style scoped>\n",
       "    .dataframe tbody tr th:only-of-type {\n",
       "        vertical-align: middle;\n",
       "    }\n",
       "\n",
       "    .dataframe tbody tr th {\n",
       "        vertical-align: top;\n",
       "    }\n",
       "\n",
       "    .dataframe thead th {\n",
       "        text-align: right;\n",
       "    }\n",
       "</style>\n",
       "<table border=\"1\" class=\"dataframe\">\n",
       "  <thead>\n",
       "    <tr style=\"text-align: right;\">\n",
       "      <th></th>\n",
       "      <th>code</th>\n",
       "      <th>url</th>\n",
       "      <th>creator</th>\n",
       "      <th>created_t</th>\n",
       "      <th>created_datetime</th>\n",
       "      <th>last_modified_t</th>\n",
       "      <th>last_modified_datetime</th>\n",
       "      <th>product_name</th>\n",
       "      <th>generic_name</th>\n",
       "      <th>quantity</th>\n",
       "      <th>...</th>\n",
       "      <th>carbon-footprint-from-meat-or-fish_100g</th>\n",
       "      <th>nutrition-score-fr_100g</th>\n",
       "      <th>nutrition-score-uk_100g</th>\n",
       "      <th>glycemic-index_100g</th>\n",
       "      <th>water-hardness_100g</th>\n",
       "      <th>choline_100g</th>\n",
       "      <th>phylloquinone_100g</th>\n",
       "      <th>beta-glucan_100g</th>\n",
       "      <th>inositol_100g</th>\n",
       "      <th>carnitine_100g</th>\n",
       "    </tr>\n",
       "  </thead>\n",
       "  <tbody>\n",
       "    <tr>\n",
       "      <td>0</td>\n",
       "      <td>0000000000017</td>\n",
       "      <td>http://world-en.openfoodfacts.org/product/0000...</td>\n",
       "      <td>kiliweb</td>\n",
       "      <td>1529059080</td>\n",
       "      <td>2018-06-15T10:38:00Z</td>\n",
       "      <td>1561463718</td>\n",
       "      <td>2019-06-25T11:55:18Z</td>\n",
       "      <td>Vitória crackers</td>\n",
       "      <td>NaN</td>\n",
       "      <td>NaN</td>\n",
       "      <td>...</td>\n",
       "      <td>NaN</td>\n",
       "      <td>NaN</td>\n",
       "      <td>NaN</td>\n",
       "      <td>NaN</td>\n",
       "      <td>NaN</td>\n",
       "      <td>NaN</td>\n",
       "      <td>NaN</td>\n",
       "      <td>NaN</td>\n",
       "      <td>NaN</td>\n",
       "      <td>NaN</td>\n",
       "    </tr>\n",
       "  </tbody>\n",
       "</table>\n",
       "<p>1 rows × 178 columns</p>\n",
       "</div>"
      ],
      "text/plain": [
       "            code                                                url  creator  \\\n",
       "0  0000000000017  http://world-en.openfoodfacts.org/product/0000...  kiliweb   \n",
       "\n",
       "    created_t      created_datetime  last_modified_t last_modified_datetime  \\\n",
       "0  1529059080  2018-06-15T10:38:00Z       1561463718   2019-06-25T11:55:18Z   \n",
       "\n",
       "       product_name generic_name quantity  ...  \\\n",
       "0  Vitória crackers          NaN      NaN  ...   \n",
       "\n",
       "  carbon-footprint-from-meat-or-fish_100g nutrition-score-fr_100g  \\\n",
       "0                                     NaN                     NaN   \n",
       "\n",
       "  nutrition-score-uk_100g glycemic-index_100g water-hardness_100g  \\\n",
       "0                     NaN                 NaN                 NaN   \n",
       "\n",
       "  choline_100g phylloquinone_100g beta-glucan_100g inositol_100g  \\\n",
       "0          NaN                NaN              NaN           NaN   \n",
       "\n",
       "  carnitine_100g  \n",
       "0            NaN  \n",
       "\n",
       "[1 rows x 178 columns]"
      ]
     },
     "execution_count": 2,
     "metadata": {},
     "output_type": "execute_result"
    }
   ],
   "source": [
    "data = pd.read_csv(\"food.csv\", sep='\\t')\n",
    "data.head(1)"
   ]
  },
  {
   "cell_type": "markdown",
   "metadata": {},
   "source": [
    "The dataset is taking lots of internal memory spaces, in order to study this dataset, one option would be to sample it, being careful to have the right output representation. "
   ]
  },
  {
   "cell_type": "code",
   "execution_count": 3,
   "metadata": {
    "ExecuteTime": {
     "end_time": "2020-02-20T09:19:42.195417Z",
     "start_time": "2020-02-20T09:19:42.170539Z"
    }
   },
   "outputs": [],
   "source": [
    "#178 columns\n",
    "#1122142 lines\n",
    "#dtypes: float64(120), int64(2), object(56)"
   ]
  },
  {
   "cell_type": "markdown",
   "metadata": {},
   "source": [
    "## General infos"
   ]
  },
  {
   "cell_type": "code",
   "execution_count": 4,
   "metadata": {
    "ExecuteTime": {
     "end_time": "2020-02-20T09:19:42.231806Z",
     "start_time": "2020-02-20T09:19:42.197864Z"
    }
   },
   "outputs": [
    {
     "name": "stdout",
     "output_type": "stream",
     "text": [
      "<class 'pandas.core.frame.DataFrame'>\n",
      "RangeIndex: 1122142 entries, 0 to 1122141\n",
      "Columns: 178 entries, code to carnitine_100g\n",
      "dtypes: float64(120), int64(2), object(56)\n",
      "memory usage: 1.5+ GB\n",
      "None\n"
     ]
    }
   ],
   "source": [
    "# Infos\n",
    "print(data.info())\n",
    "# print(data.describe())"
   ]
  },
  {
   "cell_type": "code",
   "execution_count": 5,
   "metadata": {
    "ExecuteTime": {
     "end_time": "2020-02-20T09:19:45.247037Z",
     "start_time": "2020-02-20T09:19:42.233227Z"
    },
    "scrolled": true
   },
   "outputs": [
    {
     "data": {
      "image/png": "[encoded data removed]",
      "text/plain": [
       "<Figure size 432x288 with 1 Axes>"
      ]
     },
     "metadata": {
      "needs_background": "light"
     },
     "output_type": "display_data"
    }
   ],
   "source": [
    "#Study of missing values\n",
    "SIZE = data.index.size\n",
    "columns = data.columns\n",
    "\n",
    "column_number = [i for i in range(0,columns.size)]\n",
    "na = data.isna().sum()*100/SIZE\n",
    "na_percentage = na.values\n",
    "\n",
    "# plt.figure(figsize=(20,10))\n",
    "plt.plot(column_number,na_percentage)\n",
    "plt.xlabel(\"Colomn's Number\")\n",
    "plt.ylabel(\"% of NaN data\")\n",
    "plt.title(\"% of missing data per column\")\n",
    "plt.tight_layout()"
   ]
  },
  {
   "cell_type": "code",
   "execution_count": 6,
   "metadata": {
    "ExecuteTime": {
     "end_time": "2020-02-20T09:19:45.255014Z",
     "start_time": "2020-02-20T09:19:45.249031Z"
    }
   },
   "outputs": [
    {
     "data": {
      "text/plain": [
       "31"
      ]
     },
     "execution_count": 6,
     "metadata": {},
     "output_type": "execute_result"
    }
   ],
   "source": [
    "#Number of values with at least 50% data available\n",
    "sum(na_percentage <50)"
   ]
  },
  {
   "cell_type": "code",
   "execution_count": 7,
   "metadata": {
    "ExecuteTime": {
     "end_time": "2020-02-20T09:19:45.292913Z",
     "start_time": "2020-02-20T09:19:45.256165Z"
    }
   },
   "outputs": [
    {
     "data": {
      "text/plain": [
       "319188"
      ]
     },
     "execution_count": 7,
     "metadata": {},
     "output_type": "execute_result"
    }
   ],
   "source": [
    "#Number of nutriscore available\n",
    "data[\"nutriscore_grade\"].count()"
   ]
  },
  {
   "cell_type": "code",
   "execution_count": 8,
   "metadata": {
    "ExecuteTime": {
     "end_time": "2020-02-20T09:19:45.376138Z",
     "start_time": "2020-02-20T09:19:45.295904Z"
    }
   },
   "outputs": [
    {
     "name": "stdout",
     "output_type": "stream",
     "text": [
      "28.44 % of total products have their nutriscore\n",
      "Values of nutriscore available: [nan 'd' 'b' 'a' 'c' 'e']\n",
      "Data with at least 70% products information: ['code' 'url' 'creator' 'created_t' 'created_datetime' 'last_modified_t'\n",
      " 'last_modified_datetime' 'product_name' 'countries' 'countries_tags'\n",
      " 'countries_en' 'pnns_groups_1' 'pnns_groups_2' 'states' 'states_tags'\n",
      " 'states_en' 'image_url' 'image_small_url' 'energy-kcal_100g'\n",
      " 'energy_100g' 'fat_100g' 'saturated-fat_100g' 'carbohydrates_100g'\n",
      " 'sugars_100g' 'proteins_100g' 'salt_100g' 'sodium_100g']\n"
     ]
    }
   ],
   "source": [
    "print(f'{data[\"nutriscore_grade\"].count().sum()*100/SIZE:.2f} % of total products have their nutriscore')\n",
    "print(f'Values of nutriscore available: {data[\"nutriscore_grade\"].unique()}')\n",
    "# print(data[\"pnns_groups_1\"].unique())\n",
    "# print(data[\"pnns_groups_2\"].unique())\n",
    "# print(data[\"nutriscore_score\"].unique())\n",
    "      \n",
    "#Analyze will be applied only on columns with sufficient data\n",
    "columns = data.columns\n",
    "index = (na<=30)\n",
    "print(f\"Data with at least 70% products information: {columns[index].values}\")"
   ]
  },
  {
   "cell_type": "code",
   "execution_count": 9,
   "metadata": {
    "ExecuteTime": {
     "end_time": "2020-02-20T09:19:45.383131Z",
     "start_time": "2020-02-20T09:19:45.379165Z"
    }
   },
   "outputs": [],
   "source": [
    "# #Get all nutrition elements\n",
    "# cl = columns.tolist()\n",
    "# cl[65:]\n",
    "# data[\"countries\"].unique()"
   ]
  },
  {
   "cell_type": "markdown",
   "metadata": {},
   "source": [
    "From the column number 65 to the end, you have the nutriment information. Those columns will enable us to calcule the nutriscore. We can see with the above graph that lots of this columns don't have enough data available. "
   ]
  },
  {
   "cell_type": "markdown",
   "metadata": {},
   "source": [
    "## Data cleaning & features testing"
   ]
  },
  {
   "cell_type": "markdown",
   "metadata": {},
   "source": [
    "Checking for duplicated rows."
   ]
  },
  {
   "cell_type": "code",
   "execution_count": 10,
   "metadata": {
    "ExecuteTime": {
     "end_time": "2020-02-20T09:19:47.119583Z",
     "start_time": "2020-02-20T09:19:45.386111Z"
    }
   },
   "outputs": [
    {
     "name": "stdout",
     "output_type": "stream",
     "text": [
      "They are 257 duplicated row\n"
     ]
    }
   ],
   "source": [
    "duplicated_row = data[data.duplicated(subset=['code', 'product_name'])].index\n",
    "print(f\"They are {duplicated_row.size} duplicated row\")\n",
    "# print(duplicated_row[:10])\n",
    "data.drop(labels=duplicated_row, inplace=True)"
   ]
  },
  {
   "cell_type": "markdown",
   "metadata": {},
   "source": [
    "Before starting to work on the data, we conduct a random forest to test the feature's importance of numerical values. Then we will study the most important features. "
   ]
  },
  {
   "cell_type": "code",
   "execution_count": 11,
   "metadata": {
    "ExecuteTime": {
     "end_time": "2020-02-20T09:19:47.124153Z",
     "start_time": "2020-02-20T09:19:47.119583Z"
    }
   },
   "outputs": [],
   "source": [
    "# #Categorical features\n",
    "# index = (na<90)\n",
    "# cat = [i for i in columns[index] if data[i].dtypes =='object']\n",
    "# data[cat].nunique()\n",
    "# # data.columns[cat[data[cat].nunique()<50]]"
   ]
  },
  {
   "cell_type": "code",
   "execution_count": 12,
   "metadata": {
    "ExecuteTime": {
     "end_time": "2020-02-20T09:19:47.132145Z",
     "start_time": "2020-02-20T09:19:47.126072Z"
    }
   },
   "outputs": [],
   "source": [
    "# data_set = data[num]\n",
    "# data_set.describe()"
   ]
  },
  {
   "cell_type": "code",
   "execution_count": 13,
   "metadata": {
    "ExecuteTime": {
     "end_time": "2020-02-20T09:20:02.236098Z",
     "start_time": "2020-02-20T09:19:47.134126Z"
    }
   },
   "outputs": [],
   "source": [
    "index = (na<99)\n",
    "#Get numerical data with at least 1% data available\n",
    "num = [i for i in columns[index] if data[i].dtypes =='float64' or data[i].dtypes =='int64']\n",
    "\n",
    "data_set = data[num].copy()\n",
    "# print(data_set[tmp].count())\n",
    "data_set[num] = data_set[num].applymap(lambda x: 900 if x>100 else (0 if x<0 else x))\n",
    "\n",
    "#convert y to numerical values\n",
    "potential_score = ['a','b','c','d','e'] \n",
    "def convert_score(s):\n",
    "    if s not in potential_score or type(s) is not str:\n",
    "        return np.NaN\n",
    "    else:\n",
    "        if s ==\"a\":\n",
    "            s=1\n",
    "        elif s==\"b\":\n",
    "            s=2\n",
    "        elif s==\"c\":\n",
    "            s=3\n",
    "        elif s==\"d\":\n",
    "            s=4\n",
    "        elif s==\"e\":\n",
    "            s=5\n",
    "        return int(s)\n",
    "\n",
    "data_set[num] = data_set[num].fillna(data_set[num].median())\n",
    "data_set[\"nutriscore_grade\"] = data[\"nutriscore_grade\"].apply(convert_score)\n",
    "data_set.dropna(inplace=True)"
   ]
  },
  {
   "cell_type": "code",
   "execution_count": 14,
   "metadata": {
    "ExecuteTime": {
     "end_time": "2020-02-20T09:20:14.728901Z",
     "start_time": "2020-02-20T09:20:02.241135Z"
    }
   },
   "outputs": [
    {
     "data": {
      "image/png": "[encoded data removed]",
      "text/plain": [
       "<Figure size 864x288 with 1 Axes>"
      ]
     },
     "metadata": {
      "needs_background": "light"
     },
     "output_type": "display_data"
    }
   ],
   "source": [
    "# Fit a Random Forest  \n",
    "X = data_set.iloc[:,:-1]\n",
    "y = data_set.iloc[:,-1]\n",
    "\n",
    "rf = RandomForestClassifier(n_jobs=-1, n_estimators=100, random_state=42)\n",
    "rf.fit(X,y)\n",
    "\n",
    "# Features importances:\n",
    "pd.DataFrame(rf.feature_importances_,index=X.columns).sort_values(\n",
    "    by=0,ascending=False).plot(kind='bar',figsize=(12,4))\n",
    "plt.ylabel('Features importance')\n",
    "plt.title('Features ranking with Random Forest')\n",
    "plt.show()\n",
    "\n",
    "del data_set"
   ]
  },
  {
   "cell_type": "code",
   "execution_count": 15,
   "metadata": {
    "ExecuteTime": {
     "end_time": "2020-02-20T09:20:15.004835Z",
     "start_time": "2020-02-20T09:20:14.730900Z"
    }
   },
   "outputs": [
    {
     "data": {
      "text/plain": [
       "saturated-fat_100g    856028\n",
       "fat_100g              886050\n",
       "sugars_100g           871694\n",
       "proteins_100g         887682\n",
       "carbohydrates_100g    885988\n",
       "sodium_100g           875432\n",
       "salt_100g             875483\n",
       "fiber_100g            308341\n",
       "nova_group            338801\n",
       "energy_100g           891885\n",
       "additives_n           462500\n",
       "serving_quantity      284637\n",
       "energy-kcal_100g      816404\n",
       "calcium_100g          146655\n",
       "iron_100g             143009\n",
       "dtype: int64"
      ]
     },
     "execution_count": 15,
     "metadata": {},
     "output_type": "execute_result"
    }
   ],
   "source": [
    "col = pd.DataFrame(rf.feature_importances_,index=X.columns).sort_values(\n",
    "    by=0,ascending=False).index[3:18]\n",
    "data[col].count()"
   ]
  },
  {
   "cell_type": "markdown",
   "metadata": {},
   "source": [
    "We have two types of features : those with at least 800K data available and the others, we will continue our study with the columns that have more that 50% data available."
   ]
  },
  {
   "cell_type": "code",
   "execution_count": 16,
   "metadata": {
    "ExecuteTime": {
     "end_time": "2020-02-20T09:20:15.076786Z",
     "start_time": "2020-02-20T09:20:15.008245Z"
    }
   },
   "outputs": [],
   "source": [
    "new_columns = [\"nutriscore_grade\",'energy-kcal_100g', \n",
    "               'fat_100g', 'saturated-fat_100g', 'carbohydrates_100g', 'sugars_100g',\n",
    "               'proteins_100g', 'salt_100g', 'sodium_100g']\n",
    "\n",
    "column_to_drop = [i for i in columns if i not in new_columns]\n",
    "\n",
    "# data.drop(column_to_drop,axis = 1, inplace=True)\n",
    "df = data.drop(column_to_drop,axis = 1)"
   ]
  },
  {
   "cell_type": "code",
   "execution_count": 17,
   "metadata": {
    "ExecuteTime": {
     "end_time": "2020-02-20T09:20:15.645656Z",
     "start_time": "2020-02-20T09:20:15.080423Z"
    }
   },
   "outputs": [
    {
     "data": {
      "text/html": [
       "<div>\n",
       "<style scoped>\n",
       "    .dataframe tbody tr th:only-of-type {\n",
       "        vertical-align: middle;\n",
       "    }\n",
       "\n",
       "    .dataframe tbody tr th {\n",
       "        vertical-align: top;\n",
       "    }\n",
       "\n",
       "    .dataframe thead th {\n",
       "        text-align: right;\n",
       "    }\n",
       "</style>\n",
       "<table border=\"1\" class=\"dataframe\">\n",
       "  <thead>\n",
       "    <tr style=\"text-align: right;\">\n",
       "      <th></th>\n",
       "      <th>energy-kcal_100g</th>\n",
       "      <th>fat_100g</th>\n",
       "      <th>saturated-fat_100g</th>\n",
       "      <th>carbohydrates_100g</th>\n",
       "      <th>sugars_100g</th>\n",
       "      <th>proteins_100g</th>\n",
       "      <th>salt_100g</th>\n",
       "      <th>sodium_100g</th>\n",
       "    </tr>\n",
       "  </thead>\n",
       "  <tbody>\n",
       "    <tr>\n",
       "      <td>count</td>\n",
       "      <td>8.164040e+05</td>\n",
       "      <td>886050.000000</td>\n",
       "      <td>856028.000000</td>\n",
       "      <td>885988.000000</td>\n",
       "      <td>871694.000000</td>\n",
       "      <td>887682.000000</td>\n",
       "      <td>875483.000000</td>\n",
       "      <td>875432.000000</td>\n",
       "    </tr>\n",
       "    <tr>\n",
       "      <td>mean</td>\n",
       "      <td>1.174432e+03</td>\n",
       "      <td>14.185997</td>\n",
       "      <td>5.315663</td>\n",
       "      <td>28.350921</td>\n",
       "      <td>13.987573</td>\n",
       "      <td>8.596152</td>\n",
       "      <td>2.490848</td>\n",
       "      <td>0.997720</td>\n",
       "    </tr>\n",
       "    <tr>\n",
       "      <td>std</td>\n",
       "      <td>7.050614e+03</td>\n",
       "      <td>199.760815</td>\n",
       "      <td>19.447537</td>\n",
       "      <td>38.679439</td>\n",
       "      <td>23.476553</td>\n",
       "      <td>47.920505</td>\n",
       "      <td>138.510699</td>\n",
       "      <td>55.412172</td>\n",
       "    </tr>\n",
       "    <tr>\n",
       "      <td>min</td>\n",
       "      <td>0.000000e+00</td>\n",
       "      <td>0.000000</td>\n",
       "      <td>0.000000</td>\n",
       "      <td>0.000000</td>\n",
       "      <td>-17.860000</td>\n",
       "      <td>-800.000000</td>\n",
       "      <td>0.000000</td>\n",
       "      <td>0.000000</td>\n",
       "    </tr>\n",
       "    <tr>\n",
       "      <td>25%</td>\n",
       "      <td>4.390000e+02</td>\n",
       "      <td>0.700000</td>\n",
       "      <td>0.100000</td>\n",
       "      <td>3.500000</td>\n",
       "      <td>0.700000</td>\n",
       "      <td>1.250000</td>\n",
       "      <td>0.050800</td>\n",
       "      <td>0.020320</td>\n",
       "    </tr>\n",
       "    <tr>\n",
       "      <td>50%</td>\n",
       "      <td>1.117000e+03</td>\n",
       "      <td>7.000000</td>\n",
       "      <td>1.920000</td>\n",
       "      <td>15.000000</td>\n",
       "      <td>3.900000</td>\n",
       "      <td>5.900000</td>\n",
       "      <td>0.508000</td>\n",
       "      <td>0.203200</td>\n",
       "    </tr>\n",
       "    <tr>\n",
       "      <td>75%</td>\n",
       "      <td>1.682000e+03</td>\n",
       "      <td>21.800000</td>\n",
       "      <td>7.500000</td>\n",
       "      <td>53.570000</td>\n",
       "      <td>20.000000</td>\n",
       "      <td>12.000000</td>\n",
       "      <td>1.343660</td>\n",
       "      <td>0.537464</td>\n",
       "    </tr>\n",
       "    <tr>\n",
       "      <td>max</td>\n",
       "      <td>5.578665e+06</td>\n",
       "      <td>153679.464286</td>\n",
       "      <td>14900.000000</td>\n",
       "      <td>20000.000000</td>\n",
       "      <td>7400.000000</td>\n",
       "      <td>31000.000000</td>\n",
       "      <td>99500.000000</td>\n",
       "      <td>39800.000000</td>\n",
       "    </tr>\n",
       "  </tbody>\n",
       "</table>\n",
       "</div>"
      ],
      "text/plain": [
       "       energy-kcal_100g       fat_100g  saturated-fat_100g  \\\n",
       "count      8.164040e+05  886050.000000       856028.000000   \n",
       "mean       1.174432e+03      14.185997            5.315663   \n",
       "std        7.050614e+03     199.760815           19.447537   \n",
       "min        0.000000e+00       0.000000            0.000000   \n",
       "25%        4.390000e+02       0.700000            0.100000   \n",
       "50%        1.117000e+03       7.000000            1.920000   \n",
       "75%        1.682000e+03      21.800000            7.500000   \n",
       "max        5.578665e+06  153679.464286        14900.000000   \n",
       "\n",
       "       carbohydrates_100g    sugars_100g  proteins_100g      salt_100g  \\\n",
       "count       885988.000000  871694.000000  887682.000000  875483.000000   \n",
       "mean            28.350921      13.987573       8.596152       2.490848   \n",
       "std             38.679439      23.476553      47.920505     138.510699   \n",
       "min              0.000000     -17.860000    -800.000000       0.000000   \n",
       "25%              3.500000       0.700000       1.250000       0.050800   \n",
       "50%             15.000000       3.900000       5.900000       0.508000   \n",
       "75%             53.570000      20.000000      12.000000       1.343660   \n",
       "max          20000.000000    7400.000000   31000.000000   99500.000000   \n",
       "\n",
       "         sodium_100g  \n",
       "count  875432.000000  \n",
       "mean        0.997720  \n",
       "std        55.412172  \n",
       "min         0.000000  \n",
       "25%         0.020320  \n",
       "50%         0.203200  \n",
       "75%         0.537464  \n",
       "max     39800.000000  "
      ]
     },
     "execution_count": 17,
     "metadata": {},
     "output_type": "execute_result"
    }
   ],
   "source": [
    "df.describe()"
   ]
  },
  {
   "cell_type": "markdown",
   "metadata": {},
   "source": [
    "There are lots of outliers here, with either negative value or over 100g of nutriment for a 100g quantity. Plus the nutriscore goes from a to e, and we want to work with numbers to facilitate the classification."
   ]
  },
  {
   "cell_type": "code",
   "execution_count": 18,
   "metadata": {
    "ExecuteTime": {
     "end_time": "2020-02-20T09:20:15.664606Z",
     "start_time": "2020-02-20T09:20:15.648648Z"
    },
    "code_folding": []
   },
   "outputs": [],
   "source": [
    "potential_score = ['a','b','c','d','e'] \n",
    "\n",
    "def convert_g(g):\n",
    "    if  g >= 100 or g <0:\n",
    "        return np.NaN\n",
    "    else:\n",
    "        return g\n",
    "\n",
    "def convert_nrj(j):\n",
    "#The maximum caloric content would be to eat pure fat. \n",
    "#100 grams of pure fat or oil would contain 900 kgcal.\n",
    "    if  j >= 900 or j<0:\n",
    "        return np.NaN\n",
    "    else:\n",
    "        return j\n",
    "\n",
    "def convert_score(s):\n",
    "    if s not in potential_score or type(s) is not str:\n",
    "        return np.NaN\n",
    "    else:\n",
    "        if s ==\"a\":\n",
    "            s=1\n",
    "        elif s==\"b\":\n",
    "            s=2\n",
    "        elif s==\"c\":\n",
    "            s=3\n",
    "        elif s==\"d\":\n",
    "            s=4\n",
    "        elif s==\"e\":\n",
    "            s=5\n",
    "        return int(s)\n",
    "\n",
    "##Solution1\n",
    "# df = pd.get_dummies(df,columns='nutriscore_grade',prefix=nutriscore)\n",
    "##Solution2\n",
    "# df['nutriscore_grade'].replace({1: 'a', 2: 'b', 3: 'c', 4: 'd',5: 'e',np.NaN: 'NaN'}, inplace= True)"
   ]
  },
  {
   "cell_type": "code",
   "execution_count": 19,
   "metadata": {
    "ExecuteTime": {
     "end_time": "2020-02-20T09:20:19.483593Z",
     "start_time": "2020-02-20T09:20:15.666600Z"
    }
   },
   "outputs": [
    {
     "name": "stdout",
     "output_type": "stream",
     "text": [
      "Checking of Nutriscore's values: [nan  4.  2.  1.  3.  5.]\n"
     ]
    },
    {
     "data": {
      "text/html": [
       "<div>\n",
       "<style scoped>\n",
       "    .dataframe tbody tr th:only-of-type {\n",
       "        vertical-align: middle;\n",
       "    }\n",
       "\n",
       "    .dataframe tbody tr th {\n",
       "        vertical-align: top;\n",
       "    }\n",
       "\n",
       "    .dataframe thead th {\n",
       "        text-align: right;\n",
       "    }\n",
       "</style>\n",
       "<table border=\"1\" class=\"dataframe\">\n",
       "  <thead>\n",
       "    <tr style=\"text-align: right;\">\n",
       "      <th></th>\n",
       "      <th>nutriscore_grade</th>\n",
       "      <th>energy-kcal_100g</th>\n",
       "      <th>fat_100g</th>\n",
       "      <th>saturated-fat_100g</th>\n",
       "      <th>carbohydrates_100g</th>\n",
       "      <th>sugars_100g</th>\n",
       "      <th>proteins_100g</th>\n",
       "      <th>salt_100g</th>\n",
       "      <th>sodium_100g</th>\n",
       "    </tr>\n",
       "  </thead>\n",
       "  <tbody>\n",
       "    <tr>\n",
       "      <td>count</td>\n",
       "      <td>319161.000000</td>\n",
       "      <td>342028.000000</td>\n",
       "      <td>880569.000000</td>\n",
       "      <td>855924.000000</td>\n",
       "      <td>882092.000000</td>\n",
       "      <td>869843.000000</td>\n",
       "      <td>887555.000000</td>\n",
       "      <td>874331.000000</td>\n",
       "      <td>874881.000000</td>\n",
       "    </tr>\n",
       "    <tr>\n",
       "      <td>mean</td>\n",
       "      <td>3.264177</td>\n",
       "      <td>381.470555</td>\n",
       "      <td>13.256233</td>\n",
       "      <td>5.264275</td>\n",
       "      <td>27.912679</td>\n",
       "      <td>13.759186</td>\n",
       "      <td>8.452419</td>\n",
       "      <td>1.331428</td>\n",
       "      <td>0.564796</td>\n",
       "    </tr>\n",
       "    <tr>\n",
       "      <td>std</td>\n",
       "      <td>1.319203</td>\n",
       "      <td>262.848109</td>\n",
       "      <td>16.427079</td>\n",
       "      <td>7.877690</td>\n",
       "      <td>27.838635</td>\n",
       "      <td>19.725024</td>\n",
       "      <td>9.648221</td>\n",
       "      <td>4.803160</td>\n",
       "      <td>2.303611</td>\n",
       "    </tr>\n",
       "    <tr>\n",
       "      <td>min</td>\n",
       "      <td>1.000000</td>\n",
       "      <td>0.000000</td>\n",
       "      <td>0.000000</td>\n",
       "      <td>0.000000</td>\n",
       "      <td>0.000000</td>\n",
       "      <td>0.000000</td>\n",
       "      <td>0.000000</td>\n",
       "      <td>0.000000</td>\n",
       "      <td>0.000000</td>\n",
       "    </tr>\n",
       "    <tr>\n",
       "      <td>25%</td>\n",
       "      <td>2.000000</td>\n",
       "      <td>167.000000</td>\n",
       "      <td>0.700000</td>\n",
       "      <td>0.100000</td>\n",
       "      <td>3.400000</td>\n",
       "      <td>0.700000</td>\n",
       "      <td>1.250000</td>\n",
       "      <td>0.050800</td>\n",
       "      <td>0.020320</td>\n",
       "    </tr>\n",
       "    <tr>\n",
       "      <td>50%</td>\n",
       "      <td>3.000000</td>\n",
       "      <td>351.000000</td>\n",
       "      <td>6.940000</td>\n",
       "      <td>1.920000</td>\n",
       "      <td>15.000000</td>\n",
       "      <td>3.810000</td>\n",
       "      <td>5.900000</td>\n",
       "      <td>0.500000</td>\n",
       "      <td>0.200000</td>\n",
       "    </tr>\n",
       "    <tr>\n",
       "      <td>75%</td>\n",
       "      <td>4.000000</td>\n",
       "      <td>598.000000</td>\n",
       "      <td>21.430000</td>\n",
       "      <td>7.500000</td>\n",
       "      <td>53.000000</td>\n",
       "      <td>20.000000</td>\n",
       "      <td>12.000000</td>\n",
       "      <td>1.330000</td>\n",
       "      <td>0.534416</td>\n",
       "    </tr>\n",
       "    <tr>\n",
       "      <td>max</td>\n",
       "      <td>5.000000</td>\n",
       "      <td>898.000000</td>\n",
       "      <td>99.990000</td>\n",
       "      <td>99.900000</td>\n",
       "      <td>99.990000</td>\n",
       "      <td>99.990000</td>\n",
       "      <td>99.900000</td>\n",
       "      <td>99.990000</td>\n",
       "      <td>98.000000</td>\n",
       "    </tr>\n",
       "  </tbody>\n",
       "</table>\n",
       "</div>"
      ],
      "text/plain": [
       "       nutriscore_grade  energy-kcal_100g       fat_100g  saturated-fat_100g  \\\n",
       "count     319161.000000     342028.000000  880569.000000       855924.000000   \n",
       "mean           3.264177        381.470555      13.256233            5.264275   \n",
       "std            1.319203        262.848109      16.427079            7.877690   \n",
       "min            1.000000          0.000000       0.000000            0.000000   \n",
       "25%            2.000000        167.000000       0.700000            0.100000   \n",
       "50%            3.000000        351.000000       6.940000            1.920000   \n",
       "75%            4.000000        598.000000      21.430000            7.500000   \n",
       "max            5.000000        898.000000      99.990000           99.900000   \n",
       "\n",
       "       carbohydrates_100g    sugars_100g  proteins_100g      salt_100g  \\\n",
       "count       882092.000000  869843.000000  887555.000000  874331.000000   \n",
       "mean            27.912679      13.759186       8.452419       1.331428   \n",
       "std             27.838635      19.725024       9.648221       4.803160   \n",
       "min              0.000000       0.000000       0.000000       0.000000   \n",
       "25%              3.400000       0.700000       1.250000       0.050800   \n",
       "50%             15.000000       3.810000       5.900000       0.500000   \n",
       "75%             53.000000      20.000000      12.000000       1.330000   \n",
       "max             99.990000      99.990000      99.900000      99.990000   \n",
       "\n",
       "         sodium_100g  \n",
       "count  874881.000000  \n",
       "mean        0.564796  \n",
       "std         2.303611  \n",
       "min         0.000000  \n",
       "25%         0.020320  \n",
       "50%         0.200000  \n",
       "75%         0.534416  \n",
       "max        98.000000  "
      ]
     },
     "execution_count": 19,
     "metadata": {},
     "output_type": "execute_result"
    }
   ],
   "source": [
    "for i in new_columns[2:]:\n",
    "    df[i] = df[i].apply(convert_g)\n",
    "df['energy-kcal_100g'] = df['energy-kcal_100g'].apply(convert_nrj)\n",
    "df['nutriscore_grade'] = df['nutriscore_grade'].apply(convert_score)\n",
    "print(f'Checking of Nutriscore\\'s values: {df[\"nutriscore_grade\"].unique()}')\n",
    "df.describe()"
   ]
  },
  {
   "cell_type": "markdown",
   "metadata": {},
   "source": [
    "We can see the energy per 100 g had lots of outliers, more than 500000 values, when each of the other nutriment have at least 850000 products available.  \n",
    "So the feature energy per 100g will not be used to calculate the nutriscore."
   ]
  },
  {
   "cell_type": "markdown",
   "metadata": {},
   "source": [
    "## Data distribution"
   ]
  },
  {
   "cell_type": "markdown",
   "metadata": {},
   "source": [
    "**Nutriments per 100g**"
   ]
  },
  {
   "cell_type": "code",
   "execution_count": 20,
   "metadata": {
    "ExecuteTime": {
     "end_time": "2020-02-20T09:20:22.211014Z",
     "start_time": "2020-02-20T09:20:19.485719Z"
    }
   },
   "outputs": [
    {
     "data": {
      "image/png": "[encoded data removed]",
      "text/plain": [
       "<Figure size 1080x720 with 9 Axes>"
      ]
     },
     "metadata": {
      "needs_background": "light"
     },
     "output_type": "display_data"
    }
   ],
   "source": [
    "#Data ditribution\n",
    "df[df.columns[1:]].dropna(thresh=1).hist(figsize=(15,10), bins=50)\n",
    "plt.tight_layout()"
   ]
  },
  {
   "cell_type": "code",
   "execution_count": 21,
   "metadata": {
    "ExecuteTime": {
     "end_time": "2020-02-20T09:20:22.739704Z",
     "start_time": "2020-02-20T09:20:22.212268Z"
    }
   },
   "outputs": [
    {
     "data": {
      "text/html": [
       "<div>\n",
       "<style scoped>\n",
       "    .dataframe tbody tr th:only-of-type {\n",
       "        vertical-align: middle;\n",
       "    }\n",
       "\n",
       "    .dataframe tbody tr th {\n",
       "        vertical-align: top;\n",
       "    }\n",
       "\n",
       "    .dataframe thead th {\n",
       "        text-align: right;\n",
       "    }\n",
       "</style>\n",
       "<table border=\"1\" class=\"dataframe\">\n",
       "  <thead>\n",
       "    <tr style=\"text-align: right;\">\n",
       "      <th></th>\n",
       "      <th>name</th>\n",
       "      <th>available_product</th>\n",
       "      <th>mean</th>\n",
       "      <th>var</th>\n",
       "      <th>std</th>\n",
       "      <th>skew</th>\n",
       "      <th>kurtosis</th>\n",
       "    </tr>\n",
       "  </thead>\n",
       "  <tbody>\n",
       "    <tr>\n",
       "      <td>0</td>\n",
       "      <td>saturated-fat_100g</td>\n",
       "      <td>855924</td>\n",
       "      <td>5.264275</td>\n",
       "      <td>62.057929</td>\n",
       "      <td>7.877686</td>\n",
       "      <td>3.245075</td>\n",
       "      <td>19.951167</td>\n",
       "    </tr>\n",
       "    <tr>\n",
       "      <td>1</td>\n",
       "      <td>carbohydrates_100g</td>\n",
       "      <td>882092</td>\n",
       "      <td>27.912679</td>\n",
       "      <td>774.988695</td>\n",
       "      <td>27.838619</td>\n",
       "      <td>0.687403</td>\n",
       "      <td>-0.934150</td>\n",
       "    </tr>\n",
       "    <tr>\n",
       "      <td>2</td>\n",
       "      <td>sugars_100g</td>\n",
       "      <td>869843</td>\n",
       "      <td>13.759186</td>\n",
       "      <td>389.076107</td>\n",
       "      <td>19.725012</td>\n",
       "      <td>1.776040</td>\n",
       "      <td>2.532762</td>\n",
       "    </tr>\n",
       "    <tr>\n",
       "      <td>3</td>\n",
       "      <td>proteins_100g</td>\n",
       "      <td>887555</td>\n",
       "      <td>8.452419</td>\n",
       "      <td>93.088071</td>\n",
       "      <td>9.648216</td>\n",
       "      <td>2.589128</td>\n",
       "      <td>12.432803</td>\n",
       "    </tr>\n",
       "    <tr>\n",
       "      <td>4</td>\n",
       "      <td>salt_100g</td>\n",
       "      <td>874331</td>\n",
       "      <td>1.331428</td>\n",
       "      <td>23.070324</td>\n",
       "      <td>4.803158</td>\n",
       "      <td>13.219561</td>\n",
       "      <td>213.123226</td>\n",
       "    </tr>\n",
       "    <tr>\n",
       "      <td>5</td>\n",
       "      <td>sodium_100g</td>\n",
       "      <td>874881</td>\n",
       "      <td>0.564796</td>\n",
       "      <td>5.306616</td>\n",
       "      <td>2.303609</td>\n",
       "      <td>14.980132</td>\n",
       "      <td>299.231540</td>\n",
       "    </tr>\n",
       "  </tbody>\n",
       "</table>\n",
       "</div>"
      ],
      "text/plain": [
       "                 name  available_product       mean         var        std  \\\n",
       "0  saturated-fat_100g             855924   5.264275   62.057929   7.877686   \n",
       "1  carbohydrates_100g             882092  27.912679  774.988695  27.838619   \n",
       "2         sugars_100g             869843  13.759186  389.076107  19.725012   \n",
       "3       proteins_100g             887555   8.452419   93.088071   9.648216   \n",
       "4           salt_100g             874331   1.331428   23.070324   4.803158   \n",
       "5         sodium_100g             874881   0.564796    5.306616   2.303609   \n",
       "\n",
       "        skew    kurtosis  \n",
       "0   3.245075   19.951167  \n",
       "1   0.687403   -0.934150  \n",
       "2   1.776040    2.532762  \n",
       "3   2.589128   12.432803  \n",
       "4  13.219561  213.123226  \n",
       "5  14.980132  299.231540  "
      ]
     },
     "execution_count": 21,
     "metadata": {},
     "output_type": "execute_result"
    }
   ],
   "source": [
    "def univariate_analysis(columns,dataframe):\n",
    "    uni_analysis = pd.DataFrame(columns=[\"name\",\"available_product\",\"mean\",\"var\",\"std\",\"skew\",\"kurtosis\"])\n",
    "    \n",
    "    number= []\n",
    "    mean = []\n",
    "    var = []\n",
    "    std = []\n",
    "    skew=[]\n",
    "    kurtosis=[]\n",
    "    \n",
    "    for i in columns:\n",
    "        number.append(df[i].count().sum())\n",
    "        mean.append(df[i].mean())\n",
    "        var.append(df[i].var(ddof=0))\n",
    "        std.append(df[i].std(ddof=0))\n",
    "        skew.append(df[i].skew())\n",
    "        kurtosis.append(df[i].kurtosis())\n",
    "        \n",
    "    uni_analysis[\"name\"]=new_columns[3:]\n",
    "    uni_analysis[\"available_product\"]=number\n",
    "    uni_analysis[\"mean\"]=mean\n",
    "    uni_analysis[\"var\"]=var\n",
    "    uni_analysis[\"std\"]=std\n",
    "    uni_analysis[\"skew\"]=skew\n",
    "    uni_analysis[\"kurtosis\"]=kurtosis\n",
    "\n",
    "    return uni_analysis\n",
    "\n",
    "univariate = univariate_analysis(new_columns[3:],df)\n",
    "univariate\n",
    "# univariate[[\"name\",\"skew\"]]"
   ]
  },
  {
   "cell_type": "markdown",
   "metadata": {},
   "source": [
    "The Skewness being strong for multiple features, we will need to scale the features for the classification. Even scaled, this can lead to the overweigth of very high values in the model. In this case, it is possible to transform it with the log function to reduce this skewness."
   ]
  },
  {
   "cell_type": "markdown",
   "metadata": {},
   "source": [
    "**Nutriscore**"
   ]
  },
  {
   "cell_type": "code",
   "execution_count": 22,
   "metadata": {
    "ExecuteTime": {
     "end_time": "2020-02-20T09:20:22.964099Z",
     "start_time": "2020-02-20T09:20:22.741685Z"
    }
   },
   "outputs": [
    {
     "name": "stdout",
     "output_type": "stream",
     "text": [
      "319161 nutriscores available\n"
     ]
    },
    {
     "data": {
      "image/png": "[encoded data removed]",
      "text/plain": [
       "<Figure size 432x288 with 1 Axes>"
      ]
     },
     "metadata": {
      "needs_background": "light"
     },
     "output_type": "display_data"
    }
   ],
   "source": [
    "g=sns.countplot(df['nutriscore_grade'])\n",
    "print(f\"{df['nutriscore_grade'].count()} nutriscores available\")"
   ]
  },
  {
   "cell_type": "markdown",
   "metadata": {},
   "source": [
    "The distribution of nutriscore_grade being uneven, we will need to stratify the data set in order to have a relevant training set. "
   ]
  },
  {
   "cell_type": "markdown",
   "metadata": {},
   "source": [
    "## Outliers detection"
   ]
  },
  {
   "cell_type": "code",
   "execution_count": 23,
   "metadata": {
    "ExecuteTime": {
     "end_time": "2020-02-20T09:20:24.749960Z",
     "start_time": "2020-02-20T09:20:22.968454Z"
    }
   },
   "outputs": [
    {
     "data": {
      "image/png": "[encoded data removed]",
      "text/plain": [
       "<Figure size 1080x576 with 8 Axes>"
      ]
     },
     "metadata": {
      "needs_background": "light"
     },
     "output_type": "display_data"
    }
   ],
   "source": [
    "# Boxplot\n",
    "fig, ax = plt.subplots(ncols=4, nrows=2,  figsize=(15,8))\n",
    "for i, feat in enumerate(new_columns[1:]):\n",
    "    if i<4:\n",
    "        axj=i\n",
    "        axi=0\n",
    "    elif i>=4 and i<8:\n",
    "        axi=1\n",
    "        axj = i-4\n",
    "    elif i>=8:\n",
    "        axi=2\n",
    "        axj=i-8\n",
    "    df[feat].dropna().plot(kind='box',showmeans=True, ax=ax[axi,axj])"
   ]
  },
  {
   "cell_type": "markdown",
   "metadata": {},
   "source": [
    "The cleaning function made sure that each nutriment data is within its possible range. However, within this range, we notice that there are still lots of outliers needed to be remove. For instance, it is very unlikely that a food product has over 50 g of sugar per 100 g or over 35g of protein. So using the Tukey methodology, we will remove products with at least two outliers and get the max values possible according to Tukey methodology if they have one outlier."
   ]
  },
  {
   "cell_type": "code",
   "execution_count": 24,
   "metadata": {
    "ExecuteTime": {
     "end_time": "2020-02-20T09:20:24.758932Z",
     "start_time": "2020-02-20T09:20:24.752436Z"
    }
   },
   "outputs": [],
   "source": [
    "# Outlier detection \n",
    "def detect_outliers(dataframe,n,features):\n",
    "    \"\"\"\n",
    "    Return the list of the indexes corresponding to the observations containing more than n outliers according\n",
    "    to the Tukey method.\n",
    "    \"\"\"\n",
    "    outlier_indices = []\n",
    "    \n",
    "    # iterate over features(columns)\n",
    "    for col in features:\n",
    "        # 1st quartile (25%)\n",
    "        Q1 = dataframe[col].quantile(0.25)\n",
    "        # 3rd quartile (75%)\n",
    "        Q3 = dataframe[col].quantile(0.75)\n",
    "        # Interquartile range (IQR)\n",
    "        IQR = Q3 - Q1\n",
    "        \n",
    "        # outlier step\n",
    "        outlier_step = 1.5 * IQR\n",
    "        \n",
    "        # Determine a list of indices of outliers for feature col\n",
    "        outlier_list_col = dataframe[(dataframe[col] < Q1 - outlier_step) | (dataframe[col] > Q3 + outlier_step )].index\n",
    "#         print(f\"Number of outliers for {col}: {len(outlier_list_col)}\")\n",
    "        # append the found outlier indices for col to the list of outlier indices \n",
    "        outlier_indices.extend(outlier_list_col)\n",
    "        \n",
    "    # select observations containing more than X outliers\n",
    "    \n",
    "    outlier_indices = Counter(outlier_indices) \n",
    "    multiple_outliers = list( k for k, v in outlier_indices.items() if v > n )\n",
    "    \n",
    "    return multiple_outliers"
   ]
  },
  {
   "cell_type": "code",
   "execution_count": 25,
   "metadata": {
    "ExecuteTime": {
     "end_time": "2020-02-20T09:20:26.792855Z",
     "start_time": "2020-02-20T09:20:24.760350Z"
    }
   },
   "outputs": [
    {
     "name": "stdout",
     "output_type": "stream",
     "text": [
      "There are 600 observations with at least 3 outliers\n",
      "There are 11657 observations with at least 2 outliers\n",
      "There are 71017 observations with at least 1 outlier\n"
     ]
    }
   ],
   "source": [
    "Outliers_to_drop3 = detect_outliers(df,3, new_columns[1:])\n",
    "print(f\"There are {len(Outliers_to_drop3)} observations with at least {3} outliers\")\n",
    "\n",
    "df.drop(Outliers_to_drop3, axis = 0,inplace=True)\n",
    "# df.loc[Outliers_to_drop] # Show the outliers rows\n",
    "\n",
    "\n",
    "Outliers_to_drop2 = detect_outliers(df,2, new_columns[1:])\n",
    "print(f\"There are {len(Outliers_to_drop2)} observations with at least {2} outliers\")\n",
    "\n",
    "Outliers_to_drop1 = detect_outliers(df,1, new_columns[1:])\n",
    "print(f\"There are {len(Outliers_to_drop1)} observations with at least {1} outlier\")\n",
    "\n",
    "# max_outlier = []\n",
    "# for i,col in enumerate(df.columns[3:]):\n",
    "#     max_outlier.append(df[col].quantile(0.75)+1.5*(df[col].quantile(0.75)-df[col].quantile(0.25)))\n",
    "#     df[col] = df[col].apply(lambda x: max_outlier[i] if x> max_outlier[i] else x)\n",
    "# #     print(col, max_outlier[i])"
   ]
  },
  {
   "cell_type": "markdown",
   "metadata": {},
   "source": [
    "We will keep the product with only 1 outlier, since we have a large variety of products and the outliers are continuous, they represent potential products."
   ]
  },
  {
   "cell_type": "markdown",
   "metadata": {},
   "source": [
    "## Filling NaN"
   ]
  },
  {
   "cell_type": "code",
   "execution_count": 26,
   "metadata": {
    "ExecuteTime": {
     "end_time": "2020-02-20T09:20:27.127597Z",
     "start_time": "2020-02-20T09:20:26.794777Z"
    }
   },
   "outputs": [
    {
     "name": "stdout",
     "output_type": "stream",
     "text": [
      "79.33% of nutriscore can be computed, hence 900936 products\n"
     ]
    }
   ],
   "source": [
    "print(f\"{df.dropna(subset=new_columns[1:],thresh=3).index.size*100/data.index.size:.2f}% of nutriscore can be computed, hence {df.dropna(subset=new_columns[1:],thresh=1).index.size} products\")"
   ]
  },
  {
   "cell_type": "markdown",
   "metadata": {},
   "source": [
    "The product's category is indeed correlated with the nutriment quantity. However, the majority of the product's category is unknown as we can see to the 2nd graph below. Hence, the category will not be use to fill the nutriments' missing values.  "
   ]
  },
  {
   "cell_type": "code",
   "execution_count": 27,
   "metadata": {
    "ExecuteTime": {
     "end_time": "2020-02-20T09:20:27.621863Z",
     "start_time": "2020-02-20T09:20:27.129648Z"
    }
   },
   "outputs": [
    {
     "data": {
      "image/png": "[encoded data removed]",
      "text/plain": [
       "<Figure size 1800x576 with 1 Axes>"
      ]
     },
     "metadata": {
      "needs_background": "light"
     },
     "output_type": "display_data"
    }
   ],
   "source": [
    "plt.figure(figsize=(25,8))\n",
    "g=sns.countplot(data['pnns_groups_1'])\n",
    "plt.tight_layout()"
   ]
  },
  {
   "cell_type": "markdown",
   "metadata": {},
   "source": [
    "We still have more than 20% of missing data for the nutriment. The category of the product could be interesting to fill the nutriments' missing information(only 10000 NaN values out of the 1M1 products), as they seem to be coorelated (cf 2nd bellow graph), using for instance the mean of each category as it has lots of values.  "
   ]
  },
  {
   "cell_type": "code",
   "execution_count": 28,
   "metadata": {
    "ExecuteTime": {
     "end_time": "2020-02-20T09:20:27.628860Z",
     "start_time": "2020-02-20T09:20:27.622859Z"
    },
    "code_folding": []
   },
   "outputs": [],
   "source": [
    "def compare_qual_quant(x,y):\n",
    "    \"\"\"x = qualitative, y = quantitative\"\"\"\n",
    "    df1 = df\n",
    "    df1[x] = data[x]\n",
    "    sample = df1[df1[x] != 'unknown'].copy()\n",
    "\n",
    "    sample.dropna(inplace=True)\n",
    "    modalities = sample[x1].unique()\n",
    "\n",
    "    groupes = []\n",
    "    for m in modalities:\n",
    "        groupes.append(sample[sample[x]==m][y])\n",
    "\n",
    "    medianprops = {'color':\"black\"}\n",
    "    meanprops = {'marker':'o', 'markeredgecolor':'black',\n",
    "                'markerfacecolor':'firebrick'}\n",
    "    plt.boxplot(groupes, labels=modalities, showfliers=False, medianprops=medianprops, \n",
    "                vert=False, patch_artist=True, showmeans=True, meanprops=meanprops)\n",
    "    del sample, df1\n",
    "    plt.xlabel(y)"
   ]
  },
  {
   "cell_type": "code",
   "execution_count": 29,
   "metadata": {
    "ExecuteTime": {
     "end_time": "2020-02-20T09:20:28.743822Z",
     "start_time": "2020-02-20T09:20:27.629840Z"
    }
   },
   "outputs": [
    {
     "data": {
      "text/plain": [
       "<function matplotlib.pyplot.tight_layout(pad=1.08, h_pad=None, w_pad=None, rect=None)>"
      ]
     },
     "execution_count": 29,
     "metadata": {},
     "output_type": "execute_result"
    },
    {
     "data": {
      "image/png": "[encoded data removed]",
      "text/plain": [
       "<Figure size 864x504 with 2 Axes>"
      ]
     },
     "metadata": {
      "needs_background": "light"
     },
     "output_type": "display_data"
    }
   ],
   "source": [
    "x1 = \"pnns_groups_1\" # qualitative\n",
    "y1 = \"sugars_100g\" # quantitative\n",
    "y2 = \"salt_100g\" # quantitative\n",
    "\n",
    "plt.figure(figsize=(12,7))\n",
    "plt.subplot(2, 1,1)\n",
    "compare_qual_quant(x1,y1)\n",
    "plt.subplot(2, 1,2)\n",
    "compare_qual_quant(x1,y2)\n",
    "plt.tight_layout"
   ]
  },
  {
   "cell_type": "markdown",
   "metadata": {},
   "source": [
    "# Features analysis"
   ]
  },
  {
   "cell_type": "code",
   "execution_count": 30,
   "metadata": {
    "ExecuteTime": {
     "end_time": "2020-02-20T09:20:28.771380Z",
     "start_time": "2020-02-20T09:20:28.744819Z"
    }
   },
   "outputs": [],
   "source": [
    "# print(f\"Size of the sample: {data_set.index.size}\")\n",
    "# # print(data_set.columns)\n",
    "# X = data_set.iloc[:,1:]\n",
    "# y = data_set.iloc[:,0]\n",
    "\n",
    "# #Get the F_value for each feature\n",
    "# best_features = SelectKBest(score_func=chi2, k=5)\n",
    "# fit = best_features.fit(X,y)\n",
    "\n",
    "# dfscores = pd.DataFrame(fit.scores_)\n",
    "# dfcolumns = pd.DataFrame(X.columns)\n",
    "\n",
    "# #Get the best features related to the nutriscore\n",
    "# features_scores = pd.concat([dfcolumns,dfscores],axis=1)\n",
    "# features_scores.columns = ['Specs','Score']  #naming the dataframe columns\n",
    "# print(features_scores.nlargest(15,'Score'))  #print 10 best features"
   ]
  },
  {
   "cell_type": "markdown",
   "metadata": {},
   "source": [
    "## Numerical VS Numerical - Pearson"
   ]
  },
  {
   "cell_type": "code",
   "execution_count": 31,
   "metadata": {
    "ExecuteTime": {
     "end_time": "2020-02-20T09:20:30.133700Z",
     "start_time": "2020-02-20T09:20:28.773950Z"
    }
   },
   "outputs": [
    {
     "data": {
      "image/png": "[encoded data removed]",
      "text/plain": [
       "<Figure size 864x504 with 2 Axes>"
      ]
     },
     "metadata": {
      "needs_background": "light"
     },
     "output_type": "display_data"
    }
   ],
   "source": [
    "#get correlations of each features in dataset\n",
    "corrmat = df.corr()\n",
    "top_corr_features = corrmat.index\n",
    "plt.figure(figsize=(12,7))\n",
    "g=sns.heatmap(df[top_corr_features].corr(),annot=True,cmap=\"RdYlGn\")\n",
    "\n",
    "# fix for mpl bug that cuts off top/bottom of seaborn viz\n",
    "b, t = plt.ylim() # discover the values for bottom and top\n",
    "b += 0.5 # Add 0.5 to the bottom\n",
    "t -= 0.5 # Subtract 0.5 from the top\n",
    "plt.ylim(b, t) # update the ylim(bottom, top) values\n",
    "plt.show()"
   ]
  },
  {
   "cell_type": "markdown",
   "metadata": {},
   "source": [
    "From the correlation matrix, the protein element does not seem to have a significative correlation with the nutrition score.\n",
    "Fat and saturated fat seem correlated, so are sodium and salts."
   ]
  },
  {
   "cell_type": "code",
   "execution_count": 32,
   "metadata": {
    "ExecuteTime": {
     "end_time": "2020-02-20T09:20:30.138692Z",
     "start_time": "2020-02-20T09:20:30.135694Z"
    }
   },
   "outputs": [],
   "source": [
    "# # TO COMPARE EACH NUMERICAL FEATURE'S CORRELATION\n",
    "# # calculate Pearson's correlation\n",
    "# df_fat = df.dropna(subset=['fat_100g','saturated-fat_100g'])\n",
    "# df_s = df.dropna(subset=['salt_100g','sodium_100g'])\n",
    "# corr1 = pearsonr(df_fat['fat_100g'], df_fat['saturated-fat_100g'])\n",
    "# corr2 = pearsonr(df_s['salt_100g'], df_s['sodium_100g'])\n",
    "# print('Pearsons correlation for fat & saturated_fat: %.3f' % corr1[0])\n",
    "# print('Pearsons correlation for salt & sodium: %.3f' % corr2[0])\n",
    "# del(df_fat)\n",
    "# del(df_s)"
   ]
  },
  {
   "cell_type": "code",
   "execution_count": 33,
   "metadata": {
    "ExecuteTime": {
     "end_time": "2020-02-20T09:20:30.144735Z",
     "start_time": "2020-02-20T09:20:30.140683Z"
    }
   },
   "outputs": [],
   "source": [
    "# sns.regplot(df[\"saturated-fat_100g\"],df[\"fat_100g\"])\n",
    "# plt.tight_layout()"
   ]
  },
  {
   "cell_type": "markdown",
   "metadata": {},
   "source": [
    "## Num VS Categorical - ANOVA analysis"
   ]
  },
  {
   "cell_type": "markdown",
   "metadata": {},
   "source": [
    "Study of dependency between the category of a product and its nutriment composition."
   ]
  },
  {
   "cell_type": "code",
   "execution_count": 34,
   "metadata": {
    "ExecuteTime": {
     "end_time": "2020-02-20T09:20:30.152420Z",
     "start_time": "2020-02-20T09:20:30.146665Z"
    }
   },
   "outputs": [],
   "source": [
    "def quali_quanti(df,num,cat,show=False):\n",
    "    data = df.dropna()\n",
    "    results = ols(f'{num} ~ C({cat})',data=data).fit()\n",
    "    anova_tab = sm.stats.anova_lm(results, typ=2)\n",
    "    pval = anova_tab.iloc[0,-1]\n",
    "    if show:\n",
    "        sns.catplot(x=cat, y=num, data=data, kind=\"box\", aspect=1, col='nutriscore_grade', showmeans=True)\n",
    "        plt.tight_layout()\n",
    "    del data\n",
    "    return results, anova_tab, pval"
   ]
  },
  {
   "cell_type": "code",
   "execution_count": 35,
   "metadata": {
    "ExecuteTime": {
     "end_time": "2020-02-20T09:20:30.878222Z",
     "start_time": "2020-02-20T09:20:30.154689Z"
    }
   },
   "outputs": [
    {
     "data": {
      "text/html": [
       "<div>\n",
       "<style scoped>\n",
       "    .dataframe tbody tr th:only-of-type {\n",
       "        vertical-align: middle;\n",
       "    }\n",
       "\n",
       "    .dataframe tbody tr th {\n",
       "        vertical-align: top;\n",
       "    }\n",
       "\n",
       "    .dataframe thead th {\n",
       "        text-align: right;\n",
       "    }\n",
       "</style>\n",
       "<table border=\"1\" class=\"dataframe\">\n",
       "  <thead>\n",
       "    <tr style=\"text-align: right;\">\n",
       "      <th></th>\n",
       "      <th>sum_sq</th>\n",
       "      <th>df</th>\n",
       "      <th>F</th>\n",
       "      <th>PR(&gt;F)</th>\n",
       "    </tr>\n",
       "  </thead>\n",
       "  <tbody>\n",
       "    <tr>\n",
       "      <td>C(pnns_groups_1)</td>\n",
       "      <td>1.835750e+06</td>\n",
       "      <td>12.0</td>\n",
       "      <td>2888.657228</td>\n",
       "      <td>0.0</td>\n",
       "    </tr>\n",
       "    <tr>\n",
       "      <td>Residual</td>\n",
       "      <td>5.095781e+06</td>\n",
       "      <td>96222.0</td>\n",
       "      <td>NaN</td>\n",
       "      <td>NaN</td>\n",
       "    </tr>\n",
       "  </tbody>\n",
       "</table>\n",
       "</div>"
      ],
      "text/plain": [
       "                        sum_sq       df            F  PR(>F)\n",
       "C(pnns_groups_1)  1.835750e+06     12.0  2888.657228     0.0\n",
       "Residual          5.095781e+06  96222.0          NaN     NaN"
      ]
     },
     "execution_count": 35,
     "metadata": {},
     "output_type": "execute_result"
    }
   ],
   "source": [
    "df1 = df\n",
    "df1[\"pnns_groups_1\"] = data[\"pnns_groups_1\"]\n",
    "df1 = df1[df1[\"pnns_groups_1\"]!=\"unknown\"]\n",
    "\n",
    "results,anova_tab,pval =  quali_quanti(df1,\"sugars_100g\",\"pnns_groups_1\")\n",
    "anova_tab"
   ]
  },
  {
   "cell_type": "code",
   "execution_count": 36,
   "metadata": {
    "ExecuteTime": {
     "end_time": "2020-02-20T09:20:33.219745Z",
     "start_time": "2020-02-20T09:20:30.880163Z"
    }
   },
   "outputs": [
    {
     "name": "stdout",
     "output_type": "stream",
     "text": [
      "pnns_groups_1 vs carbohydrates_100g : 0.0 < 0.05, the independency is rejected\n",
      "pnns_groups_1 vs sugars_100g : 0.0 < 0.05, the independency is rejected\n",
      "pnns_groups_1 vs proteins_100g : 0.0 < 0.05, the independency is rejected\n",
      "pnns_groups_1 vs salt_100g : 0.0 < 0.05, the independency is rejected\n",
      "pnns_groups_1 vs sodium_100g : 0.0 < 0.05, the independency is rejected\n"
     ]
    }
   ],
   "source": [
    "for quanti in new_columns[4:]:\n",
    "    results, anova_tab, pval = quali_quanti(df1, quanti, \"pnns_groups_1\", show=False)\n",
    "    if pval < 0.05 :\n",
    "        print(f'pnns_groups_1 vs {quanti} : {pval} < 0.05, the independency is rejected')\n",
    "    else : \n",
    "        print(f'pnns_groups_1 vs {quanti} : pval > 0.05, variables are dependant')"
   ]
  },
  {
   "cell_type": "markdown",
   "metadata": {},
   "source": [
    "## Categorical VS Categorical - Contingency, CHI2 Test"
   ]
  },
  {
   "cell_type": "code",
   "execution_count": 37,
   "metadata": {
    "ExecuteTime": {
     "end_time": "2020-02-20T09:20:33.231699Z",
     "start_time": "2020-02-20T09:20:33.221725Z"
    }
   },
   "outputs": [],
   "source": [
    "def cat_dependance(df, feat1, feat2, show=False):\n",
    "    df = df.dropna()\n",
    "    contingence = pd.crosstab(columns=df[feat2], index=df[feat1], normalize=False, margins=True, dropna=True)\n",
    "    chi2, p, dof, expected = chi2_contingency(contingence)\n",
    "    expected = pd.DataFrame(expected, columns=contingence.columns, index=contingence.index)\n",
    "    \n",
    "    if show:\n",
    "        plt.figure(figsize=(12,7))\n",
    "        ecarts_pond = ((contingence-expected)/expected).iloc[:-1,:-1]\n",
    "        ax = plt.axes()\n",
    "        sns.heatmap(ecarts_pond, annot=True, center=0)\n",
    "        ax.set_title('Ecarts pondérés')\n",
    "    if p < 0.05:\n",
    "        print('p < 0.05, the hypothesis of indepency is rejected')\n",
    "    else : \n",
    "        print('p > 0.05, the variable are independent\\n')\n",
    "    del(df)\n",
    "    return chi2, p, dof, expected"
   ]
  },
  {
   "cell_type": "code",
   "execution_count": 38,
   "metadata": {
    "ExecuteTime": {
     "end_time": "2020-02-20T09:20:33.395737Z",
     "start_time": "2020-02-20T09:20:33.233692Z"
    }
   },
   "outputs": [
    {
     "name": "stdout",
     "output_type": "stream",
     "text": [
      "p < 0.05, the hypothesis of indepency is rejected\n"
     ]
    }
   ],
   "source": [
    "chi2, p, dof, expected = cat_dependance(df1,\"nutriscore_grade\",\"pnns_groups_1\")\n",
    "del df1"
   ]
  },
  {
   "cell_type": "markdown",
   "metadata": {},
   "source": [
    "# Export cleaned Data_set"
   ]
  },
  {
   "cell_type": "code",
   "execution_count": 39,
   "metadata": {
    "ExecuteTime": {
     "end_time": "2020-02-20T09:20:41.507106Z",
     "start_time": "2020-02-20T09:20:33.397731Z"
    }
   },
   "outputs": [],
   "source": [
    "df.drop(['energy-kcal_100g','pnns_groups_1'],axis=\"columns\",inplace=True)\n",
    "export_csv = df.to_csv (r'cleaned_dataframe.csv', index = None, header=True)"
   ]
  }
 ],
 "metadata": {
  "kernelspec": {
   "display_name": "Python 3",
   "language": "python",
   "name": "python3"
  },
  "language_info": {
   "codemirror_mode": {
    "name": "ipython",
    "version": 3
   },
   "file_extension": ".py",
   "mimetype": "text/x-python",
   "name": "python",
   "nbconvert_exporter": "python",
   "pygments_lexer": "ipython3",
   "version": "3.7.4"
  },
  "toc": {
   "base_numbering": 1,
   "nav_menu": {},
   "number_sections": true,
   "sideBar": true,
   "skip_h1_title": false,
   "title_cell": "Table of Contents",
   "title_sidebar": "Contents",
   "toc_cell": true,
   "toc_position": {},
   "toc_section_display": true,
   "toc_window_display": true
  },
  "varInspector": {
   "cols": {
    "lenName": 16,
    "lenType": 16,
    "lenVar": 40
   },
   "kernels_config": {
    "python": {
     "delete_cmd_postfix": "",
     "delete_cmd_prefix": "del ",
     "library": "var_list.py",
     "varRefreshCmd": "print(var_dic_list())"
    },
    "r": {
     "delete_cmd_postfix": ") ",
     "delete_cmd_prefix": "rm(",
     "library": "var_list.r",
     "varRefreshCmd": "cat(var_dic_list()) "
    }
   },
   "oldHeight": 122.66666599999999,
   "position": {
    "height": "144px",
    "left": "1009px",
    "right": "20px",
    "top": "121px",
    "width": "250px"
   },
   "types_to_exclude": [
    "module",
    "function",
    "builtin_function_or_method",
    "instance",
    "_Feature"
   ],
   "varInspector_section_display": "block",
   "window_display": false
  }
 },
 "nbformat": 4,
 "nbformat_minor": 2
}
