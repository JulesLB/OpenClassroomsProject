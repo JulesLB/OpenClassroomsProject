{
 "cells": [
  {
   "cell_type": "markdown",
   "metadata": {
    "toc": true
   },
   "source": [
    "<h1>Table of Contents<span class=\"tocSkip\"></span></h1>\n",
    "<div class=\"toc\"><ul class=\"toc-item\"><li><span><a href=\"#Create-an-app-for-the-public-healt\" data-toc-modified-id=\"Create-an-app-for-the-public-healt-0\"><span class=\"toc-item-num\">0&nbsp;&nbsp;</span>Create an app for the public healt</a></span></li><li><span><a href=\"#Packages-imported\" data-toc-modified-id=\"Packages-imported-1\"><span class=\"toc-item-num\">1&nbsp;&nbsp;</span>Packages imported</a></span></li><li><span><a href=\"#Nutriscore-prediction\" data-toc-modified-id=\"Nutriscore-prediction-2\"><span class=\"toc-item-num\">2&nbsp;&nbsp;</span>Nutriscore prediction</a></span><ul class=\"toc-item\"><li><span><a href=\"#Preprocessing\" data-toc-modified-id=\"Preprocessing-2.1\"><span class=\"toc-item-num\">2.1&nbsp;&nbsp;</span>Preprocessing</a></span></li><li><span><a href=\"#Model-selection\" data-toc-modified-id=\"Model-selection-2.2\"><span class=\"toc-item-num\">2.2&nbsp;&nbsp;</span>Model selection</a></span></li></ul></li><li><span><a href=\"#Model-optimization\" data-toc-modified-id=\"Model-optimization-3\"><span class=\"toc-item-num\">3&nbsp;&nbsp;</span>Model optimization</a></span></li><li><span><a href=\"#Comparasion-to-a-baseline-PCA\" data-toc-modified-id=\"Comparasion-to-a-baseline-PCA-4\"><span class=\"toc-item-num\">4&nbsp;&nbsp;</span>Comparasion to a baseline PCA</a></span></li><li><span><a href=\"#Conclusion\" data-toc-modified-id=\"Conclusion-5\"><span class=\"toc-item-num\">5&nbsp;&nbsp;</span>Conclusion</a></span></li><li><span><a href=\"#Improvements\" data-toc-modified-id=\"Improvements-6\"><span class=\"toc-item-num\">6&nbsp;&nbsp;</span>Improvements</a></span></li></ul></div>"
   ]
  },
  {
   "cell_type": "markdown",
   "metadata": {},
   "source": [
    "# Create an app for the public healt\n",
    "\n",
    "**Objective**\n",
    "Find innovative ideas of application regarding food industry.  \n",
    "Project: Predict the nutriscore of a product\n",
    "https://en.wikipedia.org/wiki/Nutri-score\n",
    "***\n",
    "Data description: https://world.openfoodfacts.org/data/data-fields.txt  \n",
    "Data storage: https://world.openfoodfacts.org/data\n",
    "***\n",
    "Application: **Get the nutritional score for every meal/recipe** given each ingredient and quantity, so you can track your food consumption.  \n",
    "*Application description*: \n",
    "The user can scan the bar code of each element, then enter the quantity of each product. \n",
    "The algorithm will calculate the proportion of each nutriment of the meal/recipe for 100g, then return the nutriscore.Based on your food consumption, we could recommand specific meal/recipe.  \n",
    "The purpose of this study is to determine the nutriscore of each product based on its nutriments. This is a classification problem.\n",
    "***\n",
    "This notebook is dedicated to the nutriscore prediction."
   ]
  },
  {
   "cell_type": "markdown",
   "metadata": {
    "toc": true
   },
   "source": [
    "<h1>Table of Contents<span class=\"tocSkip\"></span></h1>\n",
    "<div class=\"toc\"><ul class=\"toc-item\"><li><span><a href=\"#Create-an-app-for-the-public-healt\" data-toc-modified-id=\"Create-an-app-for-the-public-healt-0\"><span class=\"toc-item-num\">0&nbsp;&nbsp;</span>Create an app for the public healt</a></span></li><li><span><a href=\"#Packages-imported\" data-toc-modified-id=\"Packages-imported-1\"><span class=\"toc-item-num\">1&nbsp;&nbsp;</span>Packages imported</a></span></li><li><span><a href=\"#Nutriscore-prediction\" data-toc-modified-id=\"Nutriscore-prediction-2\"><span class=\"toc-item-num\">2&nbsp;&nbsp;</span>Nutriscore prediction</a></span><ul class=\"toc-item\"><li><span><a href=\"#Preprocessing\" data-toc-modified-id=\"Preprocessing-2.1\"><span class=\"toc-item-num\">2.1&nbsp;&nbsp;</span>Preprocessing</a></span></li><li><span><a href=\"#Model-selection\" data-toc-modified-id=\"Model-selection-2.2\"><span class=\"toc-item-num\">2.2&nbsp;&nbsp;</span>Model selection</a></span></li></ul></li><li><span><a href=\"#Model-optimization\" data-toc-modified-id=\"Model-optimization-3\"><span class=\"toc-item-num\">3&nbsp;&nbsp;</span>Model optimization</a></span></li><li><span><a href=\"#Comparasion-to-a-baseline-PCA\" data-toc-modified-id=\"Comparasion-to-a-baseline-PCA-4\"><span class=\"toc-item-num\">4&nbsp;&nbsp;</span>Comparasion to a baseline PCA</a></span></li><li><span><a href=\"#Conclusion\" data-toc-modified-id=\"Conclusion-5\"><span class=\"toc-item-num\">5&nbsp;&nbsp;</span>Conclusion</a></span></li><li><span><a href=\"#Improvements\" data-toc-modified-id=\"Improvements-6\"><span class=\"toc-item-num\">6&nbsp;&nbsp;</span>Improvements</a></span></li></ul></div>"
   ]
  },
  {
   "cell_type": "markdown",
   "metadata": {},
   "source": [
    "# Packages imported"
   ]
  },
  {
   "cell_type": "code",
   "execution_count": 2,
   "metadata": {
    "ExecuteTime": {
     "end_time": "2020-02-27T01:17:41.802881Z",
     "start_time": "2020-02-27T01:17:39.942493Z"
    }
   },
   "outputs": [],
   "source": [
    "#Data manipulation\n",
    "import pandas as pd\n",
    "import numpy as np\n",
    "\n",
    "#Graphical\n",
    "import matplotlib.pyplot as plt\n",
    "import seaborn as sns\n",
    "\n",
    "#Classification & scoring\n",
    "from sklearn.ensemble import ExtraTreesClassifier, RandomForestClassifier\n",
    "from sklearn import model_selection, preprocessing, neighbors, metrics, svm\n",
    "from sklearn.linear_model import LogisticRegression\n",
    "\n",
    "#Others\n",
    "from collections import Counter\n",
    "\n",
    "import gc"
   ]
  },
  {
   "cell_type": "code",
   "execution_count": 4,
   "metadata": {
    "ExecuteTime": {
     "end_time": "2020-02-27T01:18:29.501849Z",
     "start_time": "2020-02-27T01:18:28.945338Z"
    }
   },
   "outputs": [],
   "source": [
    "#Import the cleaned data_set from the data exploratory\n",
    "df = pd.read_csv(\"cleaned_dataframe.csv\")"
   ]
  },
  {
   "cell_type": "markdown",
   "metadata": {},
   "source": [
    "# Nutriscore prediction"
   ]
  },
  {
   "cell_type": "markdown",
   "metadata": {},
   "source": [
    "## Preprocessing"
   ]
  },
  {
   "cell_type": "code",
   "execution_count": 3,
   "metadata": {
    "ExecuteTime": {
     "end_time": "2020-02-20T09:21:23.838664Z",
     "start_time": "2020-02-20T09:21:23.549632Z"
    }
   },
   "outputs": [
    {
     "name": "stdout",
     "output_type": "stream",
     "text": [
      "888549 nutriscores can be calculated, 79.24% of total product\n",
      "314042 training data available\n"
     ]
    }
   ],
   "source": [
    "#Size of product where Nutriscore can be calculated\n",
    "usable_product = df.drop(columns=['nutriscore_grade']).dropna(thresh=3).index.size\n",
    "print(f\"{usable_product} nutriscores can be calculated, {usable_product/df.index.size*100:.2f}% of total product\")\n",
    "print(f\"{df.dropna().index.size} training data available\")\n",
    "del(usable_product)"
   ]
  },
  {
   "cell_type": "code",
   "execution_count": 4,
   "metadata": {
    "ExecuteTime": {
     "end_time": "2020-02-20T09:21:23.942387Z",
     "start_time": "2020-02-20T09:21:23.840658Z"
    },
    "code_folding": []
   },
   "outputs": [
    {
     "name": "stdout",
     "output_type": "stream",
     "text": [
      "Size of the dataset: 314042\n",
      "X shape: (314042, 7)\n",
      "Y shape: (314042,)\n"
     ]
    }
   ],
   "source": [
    "data_set = df.dropna()\n",
    "# print(data_set.columns)\n",
    "X = data_set.iloc[:,1:]\n",
    "y = data_set.iloc[:,0]\n",
    "\n",
    "print(f\"Size of the dataset: {y.size}\")\n",
    "print(f\"X shape: {X.shape}\")\n",
    "print(f\"Y shape: {y.shape}\")"
   ]
  },
  {
   "cell_type": "code",
   "execution_count": 5,
   "metadata": {
    "ExecuteTime": {
     "end_time": "2020-02-20T09:21:24.489839Z",
     "start_time": "2020-02-20T09:21:23.944382Z"
    }
   },
   "outputs": [
    {
     "name": "stdout",
     "output_type": "stream",
     "text": [
      "X train shape: (219829, 7)\n"
     ]
    },
    {
     "data": {
      "image/png": "[encoded data removed]",
      "text/plain": [
       "<Figure size 576x288 with 1 Axes>"
      ]
     },
     "metadata": {
      "needs_background": "light"
     },
     "output_type": "display_data"
    }
   ],
   "source": [
    "from sklearn import decomposition\n",
    "\n",
    "#Split value\n",
    "X_train, X_test, y_train, y_test = model_selection.train_test_split(X, y, test_size = 0.3, stratify = y)\n",
    "print(f\"X train shape: {X_train.shape}\")\n",
    "\n",
    "std_scale = preprocessing.StandardScaler()\n",
    "X_train_std = std_scale.fit_transform(X_train)\n",
    "X_test_std = std_scale.transform(X_test)\n",
    "\n",
    "pca = decomposition.PCA(svd_solver='auto')\n",
    "X_train_pca = pd.DataFrame(pca.fit_transform(X_train_std))\n",
    "X_test_pca = pd.DataFrame(pca.transform(X_test_std))\n",
    "\n",
    "# Eigenvalues of covariance matrix (X_train) sorted desc:\n",
    "eig_values = pd.DataFrame(pca.explained_variance_ratio_)\n",
    "\n",
    "# plot eigenvalues\n",
    "plt.figure(figsize=(8,4))\n",
    "plt.grid()\n",
    "plt.plot(eig_values.abs().values,'.')\n",
    "plt.xticks(np.arange(X_train.shape[1]))\n",
    "# plt.vlines(x=27.5, ymin=0, ymax=0.2, colors='r', linestyles='--')\n",
    "plt.title('PCA')\n",
    "plt.ylabel('Variance explained')\n",
    "plt.xlabel('Eigenvalues')\n",
    "plt.show()"
   ]
  },
  {
   "cell_type": "code",
   "execution_count": 6,
   "metadata": {
    "ExecuteTime": {
     "end_time": "2020-02-20T09:21:24.582593Z",
     "start_time": "2020-02-20T09:21:24.491834Z"
    }
   },
   "outputs": [
    {
     "name": "stdout",
     "output_type": "stream",
     "text": [
      "ACP reduction: X_train_pca : (219829, 6)\n"
     ]
    }
   ],
   "source": [
    "# Dimension's reduction:\n",
    "pca = decomposition.PCA(svd_solver='auto', n_components=6)\n",
    "X_train_pca = pd.DataFrame(pca.fit_transform(X_train_std))\n",
    "X_test_pca = pd.DataFrame(pca.transform(X_test_std))\n",
    "print(f'ACP reduction: X_train_pca : {X_train_pca.shape}')"
   ]
  },
  {
   "cell_type": "markdown",
   "metadata": {},
   "source": [
    "## Model selection"
   ]
  },
  {
   "cell_type": "markdown",
   "metadata": {},
   "source": [
    "We will predict the nutriscore based on the following algorithms: logistic regression, SVM (OvR, OvO) and KNeighbors classifier. Also this are not the algorithms with the better performance compare to Random forest of XGBoost, they were the only one I learned when working on this project, since it was an initiation to ML algorithm.  "
   ]
  },
  {
   "cell_type": "code",
   "execution_count": 7,
   "metadata": {
    "ExecuteTime": {
     "end_time": "2020-02-20T09:22:12.449088Z",
     "start_time": "2020-02-20T09:21:24.584586Z"
    }
   },
   "outputs": [],
   "source": [
    "#Reduce the number of element to reduce the computing time\n",
    "number_study = 15000\n",
    "X_train_pca = X_train_pca.iloc[:number_study,:]\n",
    "X_test_pca = X_test_pca.iloc[:number_study,:]\n",
    "y_train = y_train.iloc[:number_study]\n",
    "y_test = y_test.iloc[:number_study]\n",
    "\n",
    "from sklearn.multiclass import OneVsRestClassifier\n",
    "\n",
    "classifiers_1 = []\n",
    "classifiers_1.append(LogisticRegression(solver='lbfgs',multi_class='ovr'))\n",
    "classifiers_1.append(OneVsRestClassifier(svm.SVC(gamma='auto')))\n",
    "classifiers_1.append(svm.SVC(decision_function_shape='ovr',gamma='auto'))\n",
    "# classifiers_1.append(svm.SVC(decision_function_shape='ovr'))\n",
    "classifiers_1.append(neighbors.KNeighborsClassifier(n_neighbors=5))\n",
    "\n",
    "cv_results_1 = []\n",
    "for classifier in classifiers_1 :\n",
    "    cv_results_1.append(model_selection.cross_val_score(classifier, X_train_pca, y = y_train, scoring = \"accuracy\", cv = 5))\n",
    "\n",
    "cv_means_1 = []\n",
    "cv_std_1 = []\n",
    "for cv_result in cv_results_1:\n",
    "    cv_means_1.append(cv_result.mean())\n",
    "    cv_std_1.append(cv_result.std())\n",
    "\n",
    "cv_res = pd.DataFrame({\"CrossValMeans\":cv_means_1,\"CrossValerrors\": cv_std_1,\"Algorithm\":[\"LogisticRegression\",\"OvR - SCV\",\"SVM OvR\",\"5Neighbors\"]})"
   ]
  },
  {
   "cell_type": "code",
   "execution_count": 8,
   "metadata": {
    "ExecuteTime": {
     "end_time": "2020-02-20T09:22:12.565315Z",
     "start_time": "2020-02-20T09:22:12.449088Z"
    }
   },
   "outputs": [
    {
     "data": {
      "image/png": "[encoded data removed]",
      "text/plain": [
       "<Figure size 432x288 with 1 Axes>"
      ]
     },
     "metadata": {
      "needs_background": "light"
     },
     "output_type": "display_data"
    }
   ],
   "source": [
    "g = sns.barplot(\"CrossValMeans\",\"Algorithm\",data = cv_res, palette=\"Set3\",orient = \"h\",**{'xerr':cv_std_1})\n",
    "g.set_xlabel(\"Mean Accuracy\")\n",
    "g = g.set_title(\"Cross validation scores\")\n",
    "\n",
    "# print(f\"Logistic error: {cv_means_1[0]*100:.2f}%\")\n",
    "# print(f\"OVR SVC erros: {cv_means_1[1]*100:.2f}%\")\n",
    "# print(f\"SVM OVr erros: {cv_means_1[2]*100:.2f}%\")\n",
    "# print(f\"Kneighbors erros: {cv_means_1[3]*100:.2f}%\")"
   ]
  },
  {
   "cell_type": "code",
   "execution_count": 9,
   "metadata": {
    "ExecuteTime": {
     "end_time": "2020-02-20T09:22:33.188375Z",
     "start_time": "2020-02-20T09:22:12.566312Z"
    }
   },
   "outputs": [],
   "source": [
    "y_pred = []\n",
    "for i,clf in enumerate(classifiers_1):\n",
    "    clf.fit(X_train_pca,y_train)\n",
    "    y_pred.append(clf.predict(X_test_pca))\n",
    "#     print(metrics.classification_report(y_test, y_pred[i]))"
   ]
  },
  {
   "cell_type": "code",
   "execution_count": 10,
   "metadata": {
    "ExecuteTime": {
     "end_time": "2020-02-20T09:22:33.198604Z",
     "start_time": "2020-02-20T09:22:33.188375Z"
    },
    "code_folding": [
     2
    ]
   },
   "outputs": [],
   "source": [
    "# https://datascience.stackexchange.com/questions/40067/confusion-matrix-three-classes-python\n",
    "\n",
    "def plot_confusion_matrix(cm, classes,\n",
    "                          normalize=True,\n",
    "                          title='Confusion matrix',\n",
    "                          cmap=plt.cm.Blues):\n",
    "    \"\"\"\n",
    "    This function prints and plots the confusion matrix.\n",
    "    Normalization can be applied by setting `normalize=True`.\n",
    "    \"\"\"\n",
    "    import itertools\n",
    "    if normalize:\n",
    "        cm = cm.astype('float') / cm.sum(axis=1)[:, np.newaxis]\n",
    "        print(\"Normalized confusion matrix\")\n",
    "    else:\n",
    "        print('Confusion matrix, without normalization')\n",
    "\n",
    "    print(cm)\n",
    "\n",
    "    plt.imshow(cm, interpolation='nearest', cmap=cmap)\n",
    "    plt.title(title)\n",
    "    plt.colorbar()\n",
    "    tick_marks = np.arange(len(classes))\n",
    "    plt.xticks(tick_marks, classes, rotation=45)\n",
    "    plt.yticks(tick_marks, classes)\n",
    "\n",
    "    fmt = '.2f' if normalize else 'd'\n",
    "    thresh = cm.max() / 2.\n",
    "    for i, j in itertools.product(range(cm.shape[0]), range(cm.shape[1])):\n",
    "        plt.text(j, i, format(cm[i, j], fmt),\n",
    "                 horizontalalignment=\"center\",\n",
    "                 color=\"white\" if cm[i, j] > thresh else \"black\")\n",
    "\n",
    "    plt.ylabel('True label')\n",
    "    plt.xlabel('Predicted label')\n",
    "    # fix for mpl bug that cuts off top/bottom of seaborn viz\n",
    "    b, t = plt.ylim() # discover the values for bottom and top\n",
    "    b += 0.5 # Add 0.5 to the bottom\n",
    "    t -= 0.5 # Subtract 0.5 from the top\n",
    "    plt.ylim(b, t) # update the ylim(bottom, top) values\n",
    "    plt.tight_layout()"
   ]
  },
  {
   "cell_type": "markdown",
   "metadata": {},
   "source": [
    "As we can see, the algorithm give a good knowledge of the food quality and is not to far off, ie predict a 5 score instead of 1."
   ]
  },
  {
   "cell_type": "code",
   "execution_count": 11,
   "metadata": {
    "ExecuteTime": {
     "end_time": "2020-02-20T09:22:33.441310Z",
     "start_time": "2020-02-20T09:22:33.199247Z"
    }
   },
   "outputs": [
    {
     "name": "stdout",
     "output_type": "stream",
     "text": [
      "Normalized confusion matrix\n",
      "[[0.62112089 0.21074572 0.07827698 0.00231589 0.08754053]\n",
      " [0.15849595 0.56734888 0.22132318 0.01380295 0.03902903]\n",
      " [0.01146931 0.08555487 0.66398016 0.17885927 0.06013639]\n",
      " [0.00291219 0.02105735 0.09139785 0.81003584 0.07459677]\n",
      " [0.00360656 0.00655738 0.01737705 0.13442623 0.83803279]]\n"
     ]
    },
    {
     "data": {
      "image/png": "[encoded data removed]",
      "text/plain": [
       "<Figure size 360x360 with 2 Axes>"
      ]
     },
     "metadata": {
      "needs_background": "light"
     },
     "output_type": "display_data"
    }
   ],
   "source": [
    "cm = metrics.confusion_matrix(y_test, y_pred[2])\n",
    "\n",
    "# Plot normalized confusion matrix\n",
    "plt.figure(figsize=(5,5))\n",
    "plot_confusion_matrix(cm, classes=[1, 2,3,4,5], title='Confusion matrix, with normalization')"
   ]
  },
  {
   "cell_type": "markdown",
   "metadata": {},
   "source": [
    "# Model optimization"
   ]
  },
  {
   "cell_type": "code",
   "execution_count": 12,
   "metadata": {
    "ExecuteTime": {
     "end_time": "2020-02-20T09:22:33.446297Z",
     "start_time": "2020-02-20T09:22:33.442318Z"
    }
   },
   "outputs": [],
   "source": [
    "# kfold = 5\n",
    "# param = []\n",
    "# param.append({'C': np.logspace(-3, 3, 10), 'penalty':['l2'] })\n",
    "# param.append({'gamma' : np.logspace(-3, 1, 4),'C': np.logspace(-3, 3, 5)})\n",
    "# param.append({'n_neighbors':[3, 5, 7, 9, 11, 13, 15]})\n",
    "\n",
    "# classifiers = []\n",
    "# classifiers.append(LogisticRegression(solver='lbfgs',multi_class='ovr'))\n",
    "# classifiers.append(svm.SVC(decision_function_shape='ovo'))\n",
    "# classifiers.append(neighbors.KNeighborsClassifier())\n",
    "\n",
    "# classifiers[0] = model_selection.GridSearchCV(classifiers[0],param[0],cv=kfold,scoring='accuracy')\n",
    "# classifiers[1] = model_selection.GridSearchCV(classifiers[1],param[1],cv=kfold,scoring='accuracy',refit=True)\n",
    "# classifiers[2] = model_selection.GridSearchCV(classifiers[2],param[2],cv=kfold,scoring='accuracy')\n",
    "\n",
    "# classifiers[0].fit(X_train_pca, y_train)\n",
    "# classifiers[1].fit(X_train_pca, y_train)\n",
    "# classifiers[2].fit(X_train_pca, y_train)"
   ]
  },
  {
   "cell_type": "markdown",
   "metadata": {},
   "source": [
    "Results  \n",
    "{'C': 100.0, 'penalty': 'l2'} 0.50  \n",
    "{'C': 31.622776601683793, 'gamma': 0.46415888336127775} 0.75  \n",
    "{'n_neighbors': 5} 0.71  "
   ]
  },
  {
   "cell_type": "code",
   "execution_count": 13,
   "metadata": {
    "ExecuteTime": {
     "end_time": "2020-02-20T09:22:51.062921Z",
     "start_time": "2020-02-20T09:22:33.448299Z"
    }
   },
   "outputs": [],
   "source": [
    "classifiers = []\n",
    "classifiers.append(LogisticRegression(solver='lbfgs',multi_class='ovr',C= 0.021))\n",
    "classifiers.append(svm.SVC(decision_function_shape='ovo',C=31.623,gamma=0.464))\n",
    "classifiers.append(neighbors.KNeighborsClassifier(n_neighbors=5))\n",
    "\n",
    "classifiers[0].fit(X_train_pca, y_train)\n",
    "classifiers[1].fit(X_train_pca, y_train)\n",
    "classifiers[2].fit(X_train_pca, y_train)\n",
    "\n",
    "cv_results = []\n",
    "for classifier in classifiers :\n",
    "    cv_results.append(model_selection.cross_val_score(classifier, X_train_pca, y = y_train, scoring = \"accuracy\", cv = 5))\n",
    "\n",
    "cv_means = []\n",
    "cv_std = []\n",
    "for cv_result in cv_results:\n",
    "    cv_means.append(cv_result.mean())\n",
    "    cv_std.append(cv_result.std())\n",
    "\n",
    "cv_res = pd.DataFrame({\"CrossValMeans\":cv_means,\"CrossValerrors\": cv_std,\"Algorithm\":[\"LogisticRegression\",\"SVM OvR\",\"5Neighbors\"]})"
   ]
  },
  {
   "cell_type": "code",
   "execution_count": 14,
   "metadata": {
    "ExecuteTime": {
     "end_time": "2020-02-20T09:22:51.163790Z",
     "start_time": "2020-02-20T09:22:51.062921Z"
    }
   },
   "outputs": [
    {
     "data": {
      "image/png": "[encoded data removed]",
      "text/plain": [
       "<Figure size 432x288 with 1 Axes>"
      ]
     },
     "metadata": {
      "needs_background": "light"
     },
     "output_type": "display_data"
    }
   ],
   "source": [
    "g = sns.barplot(\"CrossValMeans\",\"Algorithm\",data = cv_res, palette=\"Set3\",orient = \"h\")\n",
    "g.set_xlabel(\"Accuracy\")\n",
    "g = g.set_title(\"Grid Search CV\")"
   ]
  },
  {
   "cell_type": "code",
   "execution_count": 15,
   "metadata": {
    "ExecuteTime": {
     "end_time": "2020-02-20T09:22:54.022335Z",
     "start_time": "2020-02-20T09:22:51.164747Z"
    }
   },
   "outputs": [
    {
     "name": "stdout",
     "output_type": "stream",
     "text": [
      "Normalized confusion matrix\n",
      "[[0.72718851 0.16905975 0.05002316 0.00833719 0.04539138]\n",
      " [0.16039981 0.61494526 0.17420276 0.02522608 0.02522608]\n",
      " [0.0350279  0.08896466 0.66305022 0.16088035 0.05207688]\n",
      " [0.00515233 0.00582437 0.07706093 0.84408602 0.06787634]\n",
      " [0.01311475 0.00885246 0.01606557 0.09934426 0.86262295]]\n"
     ]
    },
    {
     "data": {
      "image/png": "[encoded data removed]",
      "text/plain": [
       "<Figure size 432x288 with 2 Axes>"
      ]
     },
     "metadata": {
      "needs_background": "light"
     },
     "output_type": "display_data"
    }
   ],
   "source": [
    "y_pred1 = []\n",
    "for i,clf in enumerate(classifiers):\n",
    "    y_pred1.append(clf.predict(X_test_pca))\n",
    "#     print(metrics.classification_report(y_test, y_pred1[i]))\n",
    "\n",
    "cm1 = metrics.confusion_matrix(y_test, y_pred1[1], labels=[1,2,3,4,5])\n",
    "# https://scikit-learn.org/stable/auto_examples/model_selection/plot_roc.html#multiclass-settings\n",
    "\n",
    "# Plot non-normalized confusion matrix\n",
    "plt.figure()\n",
    "plot_confusion_matrix(cm1, classes=[1,2,3,4,5],\n",
    "                      title='Confusion matrix, with normalization')"
   ]
  },
  {
   "cell_type": "markdown",
   "metadata": {},
   "source": [
    "# Comparasion to a baseline PCA"
   ]
  },
  {
   "cell_type": "markdown",
   "metadata": {},
   "source": [
    "I wanted to compare the result obtains from the features analysis to a baseline, where all features would be considered. Then reduce the number of features with a PCA."
   ]
  },
  {
   "cell_type": "code",
   "execution_count": 16,
   "metadata": {
    "ExecuteTime": {
     "end_time": "2020-02-20T09:23:33.524611Z",
     "start_time": "2020-02-20T09:22:54.023342Z"
    }
   },
   "outputs": [
    {
     "name": "stderr",
     "output_type": "stream",
     "text": [
      "C:\\Users\\jules\\Anaconda3\\lib\\site-packages\\IPython\\core\\interactiveshell.py:3058: DtypeWarning: Columns (0,24,25,26,28,44,49) have mixed types. Specify dtype option on import or set low_memory=False.\n",
      "  interactivity=interactivity, compiler=compiler, result=result)\n"
     ]
    }
   ],
   "source": [
    "data = pd.read_csv(\"food.csv\", sep='\\t')"
   ]
  },
  {
   "cell_type": "code",
   "execution_count": 17,
   "metadata": {
    "ExecuteTime": {
     "end_time": "2020-02-20T09:23:46.847823Z",
     "start_time": "2020-02-20T09:23:33.572771Z"
    }
   },
   "outputs": [],
   "source": [
    "#Features selected\n",
    "features = ['nutriscore_grade', 'fat_100g', 'saturated-fat_100g', \n",
    "            'carbohydrates_100g', 'sugars_100g', 'proteins_100g', \n",
    "            'salt_100g', 'sodium_100g']\n",
    "\n",
    "na = data.isna().sum()*100/data.index.size\n",
    "data_set = df.copy()\n",
    "#Create a new dataset with all the columns from the original dataset\n",
    "columns = data.columns\n",
    "index = (na<99)\n",
    "#Get numerical data with at least 1% data available\n",
    "num = [i for i in columns[index] if data[i].dtypes =='float64' or data[i].dtypes =='int64']\n",
    "tmp = [i for i in num if i not in features]\n",
    "\n",
    "data_set[tmp] = data[tmp]\n",
    "# print(data_set[tmp].count())\n",
    "#Remove overall outliers \n",
    "data_set[tmp] = data_set[tmp].applymap(lambda x: 900 if x>100 else (0 if x<0 else x))\n",
    "#Remove nutriscore, nutriscore_fr and nutriscore_en\n",
    "data_set[tmp] = data_set[tmp].fillna(data_set[tmp].median())\n",
    "data_set.drop(['nutriscore_score','nutrition-score-fr_100g','nutrition-score-uk_100g'],axis=\"columns\" ,inplace=True)\n",
    "data_set.dropna(inplace=True)"
   ]
  },
  {
   "cell_type": "code",
   "execution_count": 18,
   "metadata": {
    "ExecuteTime": {
     "end_time": "2020-02-20T09:23:46.909265Z",
     "start_time": "2020-02-20T09:23:46.847823Z"
    }
   },
   "outputs": [
    {
     "name": "stdout",
     "output_type": "stream",
     "text": [
      "Size of the dataset: 314042\n",
      "X shape: (314042, 31)\n",
      "Y shape: (314042,)\n"
     ]
    }
   ],
   "source": [
    "# df1 = df.dropna(subset=['nutriscore_grade'])\n",
    "# print(data_set.columns)\n",
    "X = data_set.iloc[:,1:]\n",
    "y = data_set.iloc[:,0]\n",
    "\n",
    "print(f\"Size of the dataset: {y.size}\")\n",
    "print(f\"X shape: {X.shape}\")\n",
    "print(f\"Y shape: {y.shape}\")"
   ]
  },
  {
   "cell_type": "code",
   "execution_count": 19,
   "metadata": {
    "ExecuteTime": {
     "end_time": "2020-02-20T09:23:48.272051Z",
     "start_time": "2020-02-20T09:23:46.912257Z"
    }
   },
   "outputs": [
    {
     "name": "stdout",
     "output_type": "stream",
     "text": [
      "X train shape: (219829, 31)\n"
     ]
    },
    {
     "data": {
      "image/png": "[encoded data removed]",
      "text/plain": [
       "<Figure size 576x288 with 1 Axes>"
      ]
     },
     "metadata": {
      "needs_background": "light"
     },
     "output_type": "display_data"
    }
   ],
   "source": [
    "from sklearn import decomposition\n",
    "\n",
    "#Split value\n",
    "X_train, X_test, y_train, y_test = model_selection.train_test_split(X, y, test_size = 0.3, stratify = y)\n",
    "print(f\"X train shape: {X_train.shape}\")\n",
    "\n",
    "std_scale = preprocessing.StandardScaler()\n",
    "X_train_std = std_scale.fit_transform(X_train)\n",
    "X_test_std = std_scale.transform(X_test)\n",
    "\n",
    "pca = decomposition.PCA(svd_solver='auto')\n",
    "X_train_pca = pd.DataFrame(pca.fit_transform(X_train_std))\n",
    "X_test_pca = pd.DataFrame(pca.transform(X_test_std))\n",
    "\n",
    "# Eigenvalues of covariance matrix (X_train) sorted desc:\n",
    "eig_values = pd.DataFrame(pca.explained_variance_ratio_)\n",
    "\n",
    "# plot eigenvalues\n",
    "plt.figure(figsize=(8,4))\n",
    "plt.grid()\n",
    "plt.plot(eig_values.abs().values,'.')\n",
    "plt.xticks(np.arange(X_train.shape[1]))\n",
    "plt.vlines(x=27.5, ymin=0, ymax=0.2, colors='r', linestyles='--')\n",
    "plt.title('PCA')\n",
    "plt.ylabel('Variance explained')\n",
    "plt.xlabel('Eigenvalues')\n",
    "plt.show()"
   ]
  },
  {
   "cell_type": "code",
   "execution_count": 20,
   "metadata": {
    "ExecuteTime": {
     "end_time": "2020-02-20T09:23:49.517988Z",
     "start_time": "2020-02-20T09:23:48.274029Z"
    }
   },
   "outputs": [
    {
     "name": "stdout",
     "output_type": "stream",
     "text": [
      "ACP reduction: X_train_pca : (219829, 13)\n"
     ]
    }
   ],
   "source": [
    "# Dimension's reduction:\n",
    "pca = decomposition.PCA(svd_solver='auto', n_components=13)\n",
    "X_train_pca = pd.DataFrame(pca.fit_transform(X_train_std))\n",
    "X_test_pca = pd.DataFrame(pca.transform(X_test_std))\n",
    "print(f'ACP reduction: X_train_pca : {X_train_pca.shape}')"
   ]
  },
  {
   "cell_type": "code",
   "execution_count": 21,
   "metadata": {
    "ExecuteTime": {
     "end_time": "2020-02-20T09:25:17.513497Z",
     "start_time": "2020-02-20T09:23:49.523971Z"
    }
   },
   "outputs": [
    {
     "name": "stderr",
     "output_type": "stream",
     "text": [
      "C:\\Users\\jules\\Anaconda3\\lib\\site-packages\\sklearn\\linear_model\\logistic.py:947: ConvergenceWarning: lbfgs failed to converge. Increase the number of iterations.\n",
      "  \"of iterations.\", ConvergenceWarning)\n"
     ]
    }
   ],
   "source": [
    "number_study = 15000\n",
    "X_train_pca = X_train_pca.iloc[:number_study,:]\n",
    "X_test_pca = X_test_pca.iloc[:number_study,:]\n",
    "y_train = y_train.iloc[:number_study]\n",
    "y_test = y_test.iloc[:number_study]\n",
    "\n",
    "classifiers_1 = []\n",
    "classifiers_1.append(LogisticRegression(solver='lbfgs',multi_class='ovr'))\n",
    "classifiers_1.append(OneVsRestClassifier(svm.SVC(gamma='auto')))\n",
    "classifiers_1.append(svm.SVC(decision_function_shape='ovr',gamma='auto'))\n",
    "# classifiers_1.append(svm.SVC(decision_function_shape='ovr'))\n",
    "classifiers_1.append(neighbors.KNeighborsClassifier(n_neighbors=5))\n",
    "\n",
    "cv_results_1 = []\n",
    "for classifier in classifiers_1 :\n",
    "    cv_results_1.append(model_selection.cross_val_score(classifier, X_train_pca, y = y_train, scoring = \"accuracy\", cv = 5))\n",
    "\n",
    "cv_means_1 = []\n",
    "cv_std_1 = []\n",
    "for cv_result in cv_results_1:\n",
    "    cv_means_1.append(cv_result.mean())\n",
    "    cv_std_1.append(cv_result.std())\n",
    "\n",
    "cv_res = pd.DataFrame({\"CrossValMeans\":cv_means_1,\"CrossValerrors\": cv_std_1,\"Algorithm\":[\"LogisticRegression\",\"OvR - SCV\",\"SVM OvR\",\"5Neighbors\"]})"
   ]
  },
  {
   "cell_type": "code",
   "execution_count": 22,
   "metadata": {
    "ExecuteTime": {
     "end_time": "2020-02-20T09:25:17.627109Z",
     "start_time": "2020-02-20T09:25:17.513497Z"
    }
   },
   "outputs": [
    {
     "data": {
      "image/png": "[encoded data removed]",
      "text/plain": [
       "<Figure size 432x288 with 1 Axes>"
      ]
     },
     "metadata": {
      "needs_background": "light"
     },
     "output_type": "display_data"
    }
   ],
   "source": [
    "g = sns.barplot(\"CrossValMeans\",\"Algorithm\",data = cv_res, palette=\"Set3\",orient = \"h\",**{'xerr':cv_std_1})\n",
    "g.set_xlabel(\"Mean Accuracy\")\n",
    "g = g.set_title(\"Cross validation scores\")"
   ]
  },
  {
   "cell_type": "code",
   "execution_count": 23,
   "metadata": {
    "ExecuteTime": {
     "end_time": "2020-02-20T09:25:54.699476Z",
     "start_time": "2020-02-20T09:25:17.635846Z"
    }
   },
   "outputs": [
    {
     "name": "stdout",
     "output_type": "stream",
     "text": [
      "Normalized confusion matrix\n",
      "[[0.58247423 0.09746954 0.28819119 0.03186504 0.        ]\n",
      " [0.48034516 0.14046021 0.32214765 0.05704698 0.        ]\n",
      " [0.18726937 0.04704797 0.51599016 0.2395449  0.0101476 ]\n",
      " [0.04588364 0.00351262 0.12447859 0.78221734 0.04390779]\n",
      " [0.12613522 0.00807265 0.00975446 0.2781702  0.57786747]]\n"
     ]
    },
    {
     "data": {
      "image/png": "[encoded data removed]",
      "text/plain": [
       "<Figure size 360x360 with 2 Axes>"
      ]
     },
     "metadata": {
      "needs_background": "light"
     },
     "output_type": "display_data"
    }
   ],
   "source": [
    "y_pred = []\n",
    "for i,clf in enumerate(classifiers_1):\n",
    "    clf.fit(X_train_pca,y_train)\n",
    "    y_pred.append(clf.predict(X_test_pca))\n",
    "#     print(metrics.classification_report(y_test, y_pred[i]))\n",
    "\n",
    "cm = metrics.confusion_matrix(y_test, y_pred[2])\n",
    "\n",
    "# Plot normalized confusion matrix\n",
    "plt.figure(figsize=(5,5))\n",
    "plot_confusion_matrix(cm, classes=[1,2,3,4,5], title='Confusion matrix, with normalization')"
   ]
  },
  {
   "cell_type": "markdown",
   "metadata": {},
   "source": [
    "**Optimization**"
   ]
  },
  {
   "cell_type": "code",
   "execution_count": 24,
   "metadata": {
    "ExecuteTime": {
     "end_time": "2020-02-20T09:25:54.705446Z",
     "start_time": "2020-02-20T09:25:54.701457Z"
    }
   },
   "outputs": [],
   "source": [
    "# par = {'gamma' : np.logspace(-3, 3, 4),'C': np.logspace(-3, 3, 4)}\n",
    "# clf = svm.SVC(decision_function_shape='ovr',gamma='auto')\n",
    "# clf = model_selection.GridSearchCV(clf,par,cv=5,scoring='accuracy',refit=True)\n",
    "# clf.fit(X_train_pca,y_train)\n",
    "# y_pred = clf.predict(X_test_pca)\n",
    "# cm = metrics.confusion_matrix(y_test, y_pred)\n",
    "\n",
    "# # Plot normalized confusion matrix\n",
    "# plt.figure(figsize=(5,5))\n",
    "# plot_confusion_matrix(cm, classes=[1,2,3,4,5], title='Confusion matrix, with normalization')"
   ]
  },
  {
   "cell_type": "markdown",
   "metadata": {},
   "source": [
    "# Conclusion"
   ]
  },
  {
   "cell_type": "markdown",
   "metadata": {},
   "source": [
    "With the available data, it is possible to determine the nutriscore for about 80% of all products, with a prediction that gives a good tendancy to your food consumption. Once the app get an nutrition scores for a meal/recipe, the objective would be to gather this data in order to recommand recipe/meal based on your comsumption and desire."
   ]
  },
  {
   "cell_type": "markdown",
   "metadata": {},
   "source": [
    "# Improvements"
   ]
  },
  {
   "cell_type": "markdown",
   "metadata": {},
   "source": [
    "- Using K-means to fill missing values\n",
    "- Using differents ML algorithms to determine the nutriscore.\n",
    "- Ensembling method in order to improve the prediction."
   ]
  }
 ],
 "metadata": {
  "kernelspec": {
   "display_name": "Python 3",
   "language": "python",
   "name": "python3"
  },
  "language_info": {
   "codemirror_mode": {
    "name": "ipython",
    "version": 3
   },
   "file_extension": ".py",
   "mimetype": "text/x-python",
   "name": "python",
   "nbconvert_exporter": "python",
   "pygments_lexer": "ipython3",
   "version": "3.7.4"
  },
  "toc": {
   "base_numbering": "",
   "nav_menu": {},
   "number_sections": true,
   "sideBar": true,
   "skip_h1_title": false,
   "title_cell": "Table of Contents",
   "title_sidebar": "Contents",
   "toc_cell": true,
   "toc_position": {},
   "toc_section_display": true,
   "toc_window_display": true
  },
  "varInspector": {
   "cols": {
    "lenName": 16,
    "lenType": 16,
    "lenVar": 40
   },
   "kernels_config": {
    "python": {
     "delete_cmd_postfix": "",
     "delete_cmd_prefix": "del ",
     "library": "var_list.py",
     "varRefreshCmd": "print(var_dic_list())"
    },
    "r": {
     "delete_cmd_postfix": ") ",
     "delete_cmd_prefix": "rm(",
     "library": "var_list.r",
     "varRefreshCmd": "cat(var_dic_list()) "
    }
   },
   "oldHeight": 122.66666599999999,
   "position": {
    "height": "144px",
    "left": "1009px",
    "right": "20px",
    "top": "121px",
    "width": "250px"
   },
   "types_to_exclude": [
    "module",
    "function",
    "builtin_function_or_method",
    "instance",
    "_Feature"
   ],
   "varInspector_section_display": "block",
   "window_display": false
  }
 },
 "nbformat": 4,
 "nbformat_minor": 2
}
